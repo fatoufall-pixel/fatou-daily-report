{
 "cells": [
  {
   "cell_type": "markdown",
   "id": "426486dd",
   "metadata": {
    "id": "426486dd"
   },
   "source": [
    "\n",
    "\n",
    "# Practical_1: Variables and Assignments"
   ]
  },
  {
   "cell_type": "markdown",
   "id": "1c363ab2-4bd4-4b82-8328-7a6a1770b958",
   "metadata": {},
   "source": [
    "----\n",
    "\n",
    "### Exercise 1:\n",
    "Declare a variable `x` and assign it the value `10`.\n",
    "\n",
    "```python\n",
    "# Exercise 1\n",
    "```"
   ]
  },
  {
   "cell_type": "code",
   "execution_count": 21,
   "id": "a8bd67f2-39a7-414e-aa69-d89fbc7a34d8",
   "metadata": {},
   "outputs": [],
   "source": [
    "x = 10"
   ]
  },
  {
   "cell_type": "markdown",
   "id": "701f4e83-8fab-4e2e-90c9-56106913c7e8",
   "metadata": {},
   "source": [
    "### Exercise 2:\n",
    "Assign the value `True` to a variable called `is_valid`.\n",
    "\n",
    "```python\n",
    "# Exercise 2\n",
    "```"
   ]
  },
  {
   "cell_type": "code",
   "execution_count": 23,
   "id": "c36941de-3115-4e58-8ca7-3e3f1f766e89",
   "metadata": {},
   "outputs": [],
   "source": [
    "is_valid = True"
   ]
  },
  {
   "cell_type": "markdown",
   "id": "b85aa74a-ee99-4069-8694-9c16ef5d8b3a",
   "metadata": {},
   "source": [
    "### Exercise 3:\n",
    "Create a string variable `name` with the value \"Python Programming\".\n",
    "\n",
    "```python\n",
    "# Exercise 3\n",
    "```"
   ]
  },
  {
   "cell_type": "code",
   "execution_count": 24,
   "id": "03dc9362-f76d-4553-a620-f3178a3aca19",
   "metadata": {},
   "outputs": [],
   "source": [
    "name = \"Python Programming\""
   ]
  },
  {
   "cell_type": "markdown",
   "id": "2c9561b0-44c5-416d-89fb-946ec804658e",
   "metadata": {},
   "source": [
    "\n",
    "### Exercise 4:\n",
    "Assign the result of `5 + 3` to a variable `sum_result`.\n",
    "\n",
    "```python\n",
    "# Exercise 4\n",
    "```"
   ]
  },
  {
   "cell_type": "code",
   "execution_count": 25,
   "id": "57f11438-dd98-4d92-ae18-75e9bb99090c",
   "metadata": {},
   "outputs": [],
   "source": [
    "sum_result = 5 + 3"
   ]
  },
  {
   "cell_type": "markdown",
   "id": "45e8fbb4-7da5-4d85-9178-a6119e8dabc7",
   "metadata": {},
   "source": [
    "\n",
    "### Exercise 5:\n",
    "Assign multiple variables in one line: `a = 5`, `b = 10`, `c = 15`.\n",
    "\n",
    "```python\n",
    "# Exercise 5\n",
    "```"
   ]
  },
  {
   "cell_type": "code",
   "execution_count": 44,
   "id": "34fde76b-74a9-4f39-a732-82a63011159c",
   "metadata": {},
   "outputs": [],
   "source": [
    "a, b, c = 5, 10, 15\n"
   ]
  },
  {
   "cell_type": "markdown",
   "id": "896979a0-b656-46a5-a238-4a0c56e8544f",
   "metadata": {},
   "source": [
    "\n",
    "### Exercise 6:\n",
    "Assign the value of one variable `x` to another variable `y`.\n",
    "\n",
    "```python\n",
    "# Exercise 6\n",
    "```"
   ]
  },
  {
   "cell_type": "code",
   "execution_count": 45,
   "id": "467e4e6a-ceb1-4745-80b2-6d99108a15c0",
   "metadata": {},
   "outputs": [],
   "source": [
    "y = x"
   ]
  },
  {
   "cell_type": "markdown",
   "id": "d95129bb-beed-48a8-9a37-5052d9525eb0",
   "metadata": {},
   "source": [
    "### Exercise 7:\n",
    "Assign a floating-point number `9.8` to a variable `gravity`.\n",
    "\n",
    "```python\n",
    "# Exercise 7\n",
    "```"
   ]
  },
  {
   "cell_type": "code",
   "execution_count": 46,
   "id": "e5166215-091d-427d-a927-0890b01a8d0d",
   "metadata": {},
   "outputs": [],
   "source": [
    "gravity = 9.8"
   ]
  },
  {
   "cell_type": "markdown",
   "id": "3f161f59-bfdd-426f-aa21-a911a822a79b",
   "metadata": {},
   "source": [
    "\n",
    "### Exercise 8:\n",
    "Create a variable `country` and assign it the string value of your favorite country.\n",
    "\n",
    "```python\n",
    "# Exercise 8\n",
    "```"
   ]
  },
  {
   "cell_type": "code",
   "execution_count": 47,
   "id": "b7b80336-ffbe-4fe6-96c2-f936b89bfe17",
   "metadata": {},
   "outputs": [],
   "source": [
    "country = \"senegal\""
   ]
  },
  {
   "cell_type": "markdown",
   "id": "d117afec-edd3-4851-bab8-0e3d1df11867",
   "metadata": {},
   "source": [
    "### Exercise 9:\n",
    "Change the value of variable `age` from `25` to `26` in two separate steps.\n",
    "\n",
    "```python\n",
    "# Exercise 9\n",
    "```"
   ]
  },
  {
   "cell_type": "markdown",
   "id": "89c8ee82-73f7-42dc-83de-3ef1da182398",
   "metadata": {},
   "source": [
    "\n",
    "age = 25\n",
    "age = 26"
   ]
  },
  {
   "cell_type": "markdown",
   "id": "e4cc8436-2f81-415e-990d-b1dd9c7aa968",
   "metadata": {},
   "source": [
    "### Exercise 10:\n",
    "\n",
    "Use one variable to store the result of subtracting two numbers `20 - 7`.\n",
    "\n",
    "```python\n",
    "# Exercise 10\n",
    "```"
   ]
  },
  {
   "cell_type": "code",
   "execution_count": 49,
   "id": "bcfc9686-c841-4bc1-8be7-a25be2e14dba",
   "metadata": {},
   "outputs": [],
   "source": [
    "result = 27 - 7\n"
   ]
  },
  {
   "cell_type": "markdown",
   "id": "88628c7d-3b27-4c85-810a-b1d5e1377e7b",
   "metadata": {},
   "source": [
    "### Exercise 11:\n",
    "Assign an integer value and a floating-point value to two different variables.\n",
    "\n",
    "```python\n",
    "# Exercise 11\n",
    "```"
   ]
  },
  {
   "cell_type": "code",
   "execution_count": 50,
   "id": "29dec80e-a780-48dc-a63d-501d2911742e",
   "metadata": {},
   "outputs": [],
   "source": [
    "integer_var = 5\n",
    "integer_var = 5.5"
   ]
  },
  {
   "cell_type": "markdown",
   "id": "ccfe9acf-0a7a-432b-8a82-ebc8ca37c1d0",
   "metadata": {},
   "source": [
    "\n",
    "### Exercise 12:\n",
    "Assign a boolean value `False` to a variable `is_completed`.\n",
    "\n",
    "```python\n",
    "# Exercise 12\n",
    "```"
   ]
  },
  {
   "cell_type": "code",
   "execution_count": 51,
   "id": "e83e8089-e94f-4f21-b7e2-7789e066ae56",
   "metadata": {},
   "outputs": [],
   "source": [
    "is_completed = False"
   ]
  },
  {
   "cell_type": "markdown",
   "id": "5f679ef0-99e7-420f-a5a1-c01891cb705f",
   "metadata": {},
   "source": [
    "### Exercise 13:\n",
    "Swap the values of two variables `x` and `y`.\n",
    "\n",
    "```python\n",
    "# Exercise 13\n",
    "```"
   ]
  },
  {
   "cell_type": "code",
   "execution_count": 54,
   "id": "12e07359-6fab-4807-9203-b3ca8e096913",
   "metadata": {},
   "outputs": [],
   "source": [
    "t = x\n",
    "x = y\n",
    "y = t"
   ]
  },
  {
   "cell_type": "markdown",
   "id": "b3e57774-31f0-4521-a646-d72e1d9ff40a",
   "metadata": {},
   "source": [
    "\n",
    "### Exercise 14:\n",
    "Assign a complex number `3 + 4j` to a variable `complex_num`.\n",
    "\n",
    "```python\n",
    "# Exercise 14\n",
    "```"
   ]
  },
  {
   "cell_type": "code",
   "execution_count": null,
   "id": "8b8c1230-add9-462e-9b63-008b6cf89022",
   "metadata": {},
   "outputs": [],
   "source": [
    "complex_num = 3 + 4j"
   ]
  },
  {
   "cell_type": "markdown",
   "id": "a88b1ef9-6d16-4ebb-89d3-3cefe8c3188e",
   "metadata": {},
   "source": [
    "---\n",
    "\n",
    "### Exercise 15:\n",
    "Reassign a variable from an integer to a string.\n",
    "\n",
    "```python\n",
    "# Exercise 15\n",
    "```"
   ]
  },
  {
   "cell_type": "code",
   "execution_count": 56,
   "id": "537711ee-af8a-41f6-bcb7-d3d3b42daefd",
   "metadata": {},
   "outputs": [],
   "source": [
    "my_var = 15\n",
    "my_var = \"Hello\""
   ]
  },
  {
   "cell_type": "markdown",
   "id": "b1aba384-b6b1-48bc-b401-d1efb7b0d4e7",
   "metadata": {},
   "source": [
    "---\n",
    "\n",
    "### Exercise 16:\n",
    "Create two variables `first_name` and `last_name`, and assign them your first and last names.\n",
    "\n",
    "```python\n",
    "# Exercise 16\n",
    "```"
   ]
  },
  {
   "cell_type": "code",
   "execution_count": 57,
   "id": "61aec71a-6526-4e2d-921d-c820bbfe745f",
   "metadata": {},
   "outputs": [],
   "source": [
    "first_name = \"Fatou\"\n",
    "last_name = \"Fall\""
   ]
  },
  {
   "cell_type": "markdown",
   "id": "6a4bf3f8-a2eb-4c27-bb7e-5a0e72eb112b",
   "metadata": {},
   "source": [
    "---\n",
    "\n",
    "### Exercise 17:\n",
    "Create a variable `temperature` and assign it the value of `35.5`.\n",
    "\n",
    "```python\n",
    "# Exercise 17\n",
    "```"
   ]
  },
  {
   "cell_type": "code",
   "execution_count": 58,
   "id": "7fe502b6-22f5-40a7-b184-e26f079edc41",
   "metadata": {},
   "outputs": [],
   "source": [
    "temperature = 35.5"
   ]
  },
  {
   "cell_type": "markdown",
   "id": "e54f4f30-2f4b-4753-a1d5-2afa5acae7cd",
   "metadata": {},
   "source": [
    "---\n",
    "\n",
    "### Exercise 18:\n",
    "Assign the result of the multiplication of two numbers `8 * 6` to a variable `product`.\n",
    "\n",
    "```python\n",
    "# Exercise 18\n",
    "```\n",
    "\n",
    "---"
   ]
  },
  {
   "cell_type": "code",
   "execution_count": null,
   "id": "732b4a43-e2a9-428a-af20-98787dfdfe3f",
   "metadata": {},
   "outputs": [],
   "source": [
    "product = 8*6"
   ]
  },
  {
   "cell_type": "markdown",
   "id": "a4520611-1cd5-4740-8341-52a7f7934c49",
   "metadata": {},
   "source": [
    "### Exercise 19:\n",
    "Assign a sentence of your choice to a variable `sentence`.\n",
    "\n",
    "```python\n",
    "# Exercise 19\n",
    "```"
   ]
  },
  {
   "cell_type": "code",
   "execution_count": 59,
   "id": "82944a2a-2314-4f51-8b59-7fb532bd7ed7",
   "metadata": {},
   "outputs": [],
   "source": [
    "sentence = \"Python programming is fun\""
   ]
  },
  {
   "cell_type": "markdown",
   "id": "e6496530-23a5-42f0-b066-132a2b4e271c",
   "metadata": {},
   "source": [
    "---\n",
    "\n",
    "### Exercise 20:\n",
    "Use an assignment to convert a string `'50'` into an integer variable `int_value`.\n",
    "\n",
    "```python\n",
    "# Exercise 20\n",
    "```\n",
    "\n",
    "---"
   ]
  },
  {
   "cell_type": "code",
   "execution_count": 60,
   "id": "8d65329b-8252-42c7-a652-91921137668f",
   "metadata": {},
   "outputs": [],
   "source": [
    "int_value = int('50')"
   ]
  },
  {
   "cell_type": "markdown",
   "id": "ec768566-36f1-4620-88fe-6cbf6852a845",
   "metadata": {},
   "source": [
    "### Exercise 21:\n",
    "Assign the result of dividing `144` by `12` to a variable `quotient`.\n",
    "\n",
    "```python\n",
    "# Exercise 21\n",
    "```"
   ]
  },
  {
   "cell_type": "code",
   "execution_count": 61,
   "id": "c1ec6bae-3c9e-4a96-9aa5-ad85be1c23e0",
   "metadata": {},
   "outputs": [],
   "source": [
    "quotient = 144/2"
   ]
  },
  {
   "cell_type": "markdown",
   "id": "2bd73063-13ac-42d4-850d-151a66049c56",
   "metadata": {},
   "source": [
    "---\n",
    "\n",
    "### Exercise 22:\n",
    "Assign the remainder of `47 divided by 5` to a variable `remainder`.\n",
    "\n",
    "```python\n",
    "# Exercise 22\n",
    "```"
   ]
  },
  {
   "cell_type": "code",
   "execution_count": 62,
   "id": "b467e8e7-e852-49e7-9ea8-99424d7a1fdd",
   "metadata": {},
   "outputs": [],
   "source": [
    "remainder = 47 % 5"
   ]
  },
  {
   "cell_type": "markdown",
   "id": "5406915a-6287-40e3-9044-1336aadce1ab",
   "metadata": {},
   "source": [
    "---\n",
    "\n",
    "### Exercise 23:\n",
    "Create a variable `is_student` and assign it the value `True`.\n",
    "\n",
    "```python\n",
    "# Exercise 23\n",
    "```"
   ]
  },
  {
   "cell_type": "markdown",
   "id": "5b34d00e-0521-453a-9c0e-9c46cc3e4d15",
   "metadata": {},
   "source": [
    "is_student = true"
   ]
  },
  {
   "cell_type": "markdown",
   "id": "5706c85b-817d-43cb-81c6-ab0a3dc80c80",
   "metadata": {},
   "source": [
    "---\n",
    "\n",
    "### Exercise 24:\n",
    "Use a variable to store the result of a modulo operation: `45 % 4`.\n",
    "\n",
    "```python\n",
    "# Exercise 24\n",
    "```"
   ]
  },
  {
   "cell_type": "code",
   "execution_count": 63,
   "id": "4b7091ed-61b4-4abc-ad54-19fe658d50c1",
   "metadata": {},
   "outputs": [],
   "source": [
    "modulo_result = 54 % 4"
   ]
  },
  {
   "cell_type": "markdown",
   "id": "050815ca-1a65-43cd-90cb-ed26ca3d535d",
   "metadata": {},
   "source": [
    "---\n",
    "\n",
    "### Exercise 25:\n",
    "Create a variable `pi` and assign it the value `3.14159`.\n",
    "\n",
    "```python\n",
    "# Exercise 25\n",
    "```"
   ]
  },
  {
   "cell_type": "code",
   "execution_count": null,
   "id": "783b8b7e-5c6b-494c-8e12-2c99b2fed594",
   "metadata": {},
   "outputs": [],
   "source": [
    "pi = 3,14159"
   ]
  },
  {
   "cell_type": "markdown",
   "id": "912e4efd-1ec3-4ffd-a4ce-5b564d0f4cb9",
   "metadata": {},
   "source": [
    "---\n",
    "\n",
    "### Exercise 26:\n",
    "Create two variables `length` and `width`, assign them values, and calculate the area of a rectangle.\n",
    "\n",
    "```python\n",
    "# Exercise 26\n",
    "```\n"
   ]
  },
  {
   "cell_type": "code",
   "execution_count": 64,
   "id": "e7ebb131-e489-45dd-893d-db5dfd0464a7",
   "metadata": {},
   "outputs": [],
   "source": [
    "length = 10\n",
    "width = 5\n",
    "area = length * width"
   ]
  },
  {
   "cell_type": "markdown",
   "id": "a0a0882d-5d76-4444-91e5-47f8c41e5ddf",
   "metadata": {},
   "source": [
    "---\n",
    "\n",
    "### Exercise 27:\n",
    "Assign a negative number to a variable `negative_value`.\n",
    "\n",
    "```python\n",
    "# Exercise 27\n",
    "```"
   ]
  },
  {
   "cell_type": "code",
   "execution_count": 65,
   "id": "f191f8ac-5c79-41d4-bd26-542e138c6f88",
   "metadata": {},
   "outputs": [],
   "source": [
    "negative_positive = -15"
   ]
  },
  {
   "cell_type": "markdown",
   "id": "5b4cd31b-555b-4b59-ace7-2f06fc7052e1",
   "metadata": {},
   "source": [
    "---\n",
    "\n",
    "### Exercise 28:\n",
    "Assign a string containing a special character (e.g., \"Hello, World!\") to a variable `greeting`.\n",
    "\n",
    "```python\n",
    "# Exercise 28\n",
    "```"
   ]
  },
  {
   "cell_type": "code",
   "execution_count": 66,
   "id": "78da2561-7877-43ea-9c8a-3c4b7330a102",
   "metadata": {},
   "outputs": [],
   "source": [
    "greeting = \"Hello, world\""
   ]
  },
  {
   "cell_type": "markdown",
   "id": "e134cb8f-f06f-4470-b461-13b6979dc47b",
   "metadata": {},
   "source": [
    "\n",
    "---\n",
    "\n",
    "### Exercise 29:\n",
    "Create a variable `population` and assign it a large integer value (in billions).\n",
    "\n",
    "```python\n",
    "# Exercise 29\n",
    "```"
   ]
  },
  {
   "cell_type": "code",
   "execution_count": 80,
   "id": "c03c7c54-3018-4277-9845-26007bd565b3",
   "metadata": {},
   "outputs": [],
   "source": [
    "population = 2000000000"
   ]
  },
  {
   "cell_type": "markdown",
   "id": "a22ec8fb-eeca-4003-88c7-6e206d1baaf3",
   "metadata": {},
   "source": [
    "---\n",
    "\n",
    "### Exercise 30:\n",
    "Use a variable to store the result of raising `2` to the power of `8`.\n",
    "\n",
    "```python\n",
    "# Exercise 30\n",
    "```"
   ]
  },
  {
   "cell_type": "code",
   "execution_count": 82,
   "id": "5940e4c6-511c-4271-917b-80ddfd541595",
   "metadata": {},
   "outputs": [],
   "source": [
    "A = 8\n",
    "power_result = 2 ** A"
   ]
  },
  {
   "cell_type": "markdown",
   "id": "ed00f7a6-03f0-4ef8-bc79-4eb6222a206e",
   "metadata": {},
   "source": [
    "---\n",
    "\n",
    "### Exercise 31:\n",
    "Assign a list of your favorite fruits to a variable `fruits`.\n",
    "\n",
    "```python\n",
    "# Exercise 31\n",
    "```"
   ]
  },
  {
   "cell_type": "code",
   "execution_count": 83,
   "id": "a4ae61be-b61b-4d23-a9de-aee9ea2bce7c",
   "metadata": {},
   "outputs": [],
   "source": [
    "fruits = [\"apple\", \"banana\", \"orange\"]"
   ]
  },
  {
   "cell_type": "markdown",
   "id": "3c429ca2-f750-4f04-8b3b-0a3757c82a56",
   "metadata": {},
   "source": [
    "---\n",
    "\n",
    "### Exercise 32:\n",
    "Assign a tuple of three numbers to a variable `coordinates`.\n",
    "\n",
    "```python\n",
    "# Exercise 32\n",
    "```\n"
   ]
  },
  {
   "cell_type": "code",
   "execution_count": 84,
   "id": "87101605-1ad4-40b3-8914-715fbad7d749",
   "metadata": {},
   "outputs": [],
   "source": [
    "coordinates = (10, 20, 30)"
   ]
  },
  {
   "cell_type": "markdown",
   "id": "f969e3ca-d7aa-448f-8ccd-dbb4df6a9ccf",
   "metadata": {},
   "source": [
    "---\n",
    "\n",
    "### Exercise 33:\n",
    "Assign a dictionary with keys `name` and `age` to a variable `person`.\n",
    "\n",
    "```python\n",
    "# Exercise 33\n",
    "```"
   ]
  },
  {
   "cell_type": "code",
   "execution_count": 89,
   "id": "d02ce062-ccf9-4bb9-ae01-1cb8940bdbe3",
   "metadata": {},
   "outputs": [],
   "source": [
    "person = {\"name\": \"Fatou\", \"age\":26}"
   ]
  },
  {
   "cell_type": "markdown",
   "id": "462d97e4-5b8e-4421-9678-98755872d284",
   "metadata": {},
   "source": [
    "---\n",
    "\n",
    "### Exercise 34:\n",
    "Use variables to store the sum of two floating-point numbers.\n",
    "\n",
    "```python\n",
    "# Exercise 34\n",
    "```"
   ]
  },
  {
   "cell_type": "code",
   "execution_count": 94,
   "id": "c0779208-378d-4d92-b023-c5c119075e98",
   "metadata": {},
   "outputs": [],
   "source": [
    "num1 = 3.14\n",
    "num2 = 2.71\n",
    "sum_result = num1 + num2"
   ]
  },
  {
   "cell_type": "markdown",
   "id": "4efb03c5-f64a-4bb4-89c5-53f795e19de7",
   "metadata": {},
   "source": [
    "---\n",
    "\n",
    "### Exercise 35:\n",
    "Create a variable `is_sunny` and assign it the result of a comparison `10 > 5`.\n",
    "\n",
    "```python\n",
    "# Exercise 35\n",
    "```"
   ]
  },
  {
   "cell_type": "code",
   "execution_count": null,
   "id": "ae8c837e-868b-44b0-bfee-caff9d20ca8f",
   "metadata": {},
   "outputs": [],
   "source": [
    "is_sunny = 10 > 5"
   ]
  },
  {
   "cell_type": "markdown",
   "id": "09f6d6be-dfb0-416b-9221-7a7ca02ec620",
   "metadata": {},
   "source": [
    "---\n",
    "\n",
    "### Exercise 36:\n",
    "Assign a string and an integer to two different variables, then print both on one line.\n",
    "\n",
    "```python\n",
    "# Exercise 36\n",
    "```\n"
   ]
  },
  {
   "cell_type": "code",
   "execution_count": 127,
   "id": "8261392c-9269-47f5-a2fd-4d3a67045341",
   "metadata": {},
   "outputs": [
    {
     "name": "stdout",
     "output_type": "stream",
     "text": [
      "Ousseynou 25\n"
     ]
    }
   ],
   "source": [
    "name = \"Ousseynou\"\n",
    "age = 25\n",
    "del print\n",
    "print(name, age)"
   ]
  },
  {
   "cell_type": "markdown",
   "id": "ef62b820-8276-4722-aa1b-d4ee5587327e",
   "metadata": {},
   "source": [
    "---\n",
    "\n",
    "### Exercise 37:\n",
    "Reassign a variable that originally held a number to a boolean value.\n",
    "\n",
    "```python\n",
    "# Exercise 37\n",
    "```"
   ]
  },
  {
   "cell_type": "code",
   "execution_count": 100,
   "id": "bbee9b86-8398-4e87-b1f1-a4d3f6b45833",
   "metadata": {},
   "outputs": [],
   "source": [
    "my_variable = 20\n",
    "my_variable = True"
   ]
  },
  {
   "cell_type": "markdown",
   "id": "ba0ab95d-f107-461f-93d0-deca85f74aa4",
   "metadata": {},
   "source": [
    "---\n",
    "\n",
    "### Exercise 38:\n",
    "Create a variable `is_weekend` and assign it the result of `False`.\n",
    "\n",
    "```python\n",
    "# Exercise 38\n",
    "```"
   ]
  },
  {
   "cell_type": "code",
   "execution_count": 101,
   "id": "4242dcd2-d6c1-47e6-b02f-d02c238cad23",
   "metadata": {},
   "outputs": [],
   "source": [
    "is_weekend = False"
   ]
  },
  {
   "cell_type": "markdown",
   "id": "e268bae8-8e39-4cd0-862f-80adb8dfc89b",
   "metadata": {},
   "source": []
  },
  {
   "cell_type": "code",
   "execution_count": 110,
   "id": "9ce6c1e0-ad9c-4046-87e3-451a97715dde",
   "metadata": {},
   "outputs": [
    {
     "ename": "SyntaxError",
     "evalue": "invalid syntax (4176912899.py, line 1)",
     "output_type": "error",
     "traceback": [
      "\u001b[0;36m  Cell \u001b[0;32mIn[110], line 1\u001b[0;36m\u001b[0m\n\u001b[0;31m    description = \"\"this is multi-line string. \"\"\u001b[0m\n\u001b[0m                    ^\u001b[0m\n\u001b[0;31mSyntaxError\u001b[0m\u001b[0;31m:\u001b[0m invalid syntax\n"
     ]
    }
   ],
   "source": []
  },
  {
   "cell_type": "markdown",
   "id": "deb51312-7d61-4801-a251-739346eb611e",
   "metadata": {},
   "source": [
    "---\n",
    "\n",
    "### Exercise 40:\n",
    "Use variables to store the result of the absolute value of `-25`.\n",
    "\n",
    "```python\n",
    "# Exercise 40\n",
    "```"
   ]
  },
  {
   "cell_type": "code",
   "execution_count": 109,
   "id": "6cac04f6-26e3-43b4-a811-b00f7316bb57",
   "metadata": {},
   "outputs": [],
   "source": [
    "absolute_value = abs(-25)"
   ]
  },
  {
   "cell_type": "markdown",
   "id": "d21429ae-02ef-4f7b-8bab-71597be4c792",
   "metadata": {},
   "source": [
    "---\n",
    "\n",
    "### Exercise 41:\n",
    "Assign the result of a floor division `100 // 6` to a variable `floor_div_result`.\n",
    "\n",
    "```python\n",
    "# Exercise 41\n",
    "```\n"
   ]
  },
  {
   "cell_type": "code",
   "execution_count": 114,
   "id": "91af586a-3ea0-4d6e-aef2-3af5e0b04a83",
   "metadata": {},
   "outputs": [],
   "source": [
    "floor_div_resuit = 10 // 3"
   ]
  },
  {
   "cell_type": "markdown",
   "id": "a94190a7-2ef7-4faf-a077-16f343324fb2",
   "metadata": {},
   "source": [
    "---\n",
    "\n",
    "### Exercise 42:\n",
    "Assign the result of adding a floating-point number to an integer to a variable `mixed_sum`.\n",
    "\n",
    "```python\n",
    "# Exercise 42\n",
    "```"
   ]
  },
  {
   "cell_type": "code",
   "execution_count": 112,
   "id": "dccfddaf-b0ec-4eec-b334-f37f4d72c4f3",
   "metadata": {},
   "outputs": [],
   "source": [
    "mixed_sum = 5 + 3.14"
   ]
  },
  {
   "cell_type": "markdown",
   "id": "54f22a1c-05ae-4899-a335-af69dc4e072a",
   "metadata": {},
   "source": [
    "---\n",
    "\n",
    "### Exercise 43:\n",
    "Assign a boolean value based on the comparison of two variables `a = 10` and `b = 15`.\n",
    "\n",
    "```python\n",
    "# Exercise 43\n",
    "```"
   ]
  },
  {
   "cell_type": "code",
   "execution_count": 118,
   "id": "a2321825-0741-498f-802b-fb522fcae0bf",
   "metadata": {},
   "outputs": [],
   "source": [
    "a = 10\n",
    "b = 15\n",
    "compar_result = a < b"
   ]
  },
  {
   "cell_type": "markdown",
   "id": "c2e4f882-c97e-4552-8d40-b07973f78e29",
   "metadata": {},
   "source": [
    "---\n",
    "\n",
    "### Exercise 44:\n",
    "Assign a long sentence to a variable and count its characters using `len()`.\n",
    "\n",
    "```python\n",
    "# Exercise 44\n",
    "```"
   ]
  },
  {
   "cell_type": "code",
   "execution_count": 119,
   "id": "53ad8370-e289-4d34-9d01-b70cd238ef35",
   "metadata": {},
   "outputs": [],
   "source": []
  },
  {
   "cell_type": "markdown",
   "id": "1f8ffc75-3b39-44ba-b7c8-fa0fe4e3f534",
   "metadata": {},
   "source": [
    "---\n",
    "\n",
    "### Exercise 45:\n",
    "Assign a fractional result `7 / 3` to a variable `division_result`.\n",
    "\n",
    "```python\n",
    "# Exercise 45\n",
    "```"
   ]
  },
  {
   "cell_type": "code",
   "execution_count": 119,
   "id": "efbe183d-cc3f-4ee9-a586-9f407ca4436d",
   "metadata": {},
   "outputs": [],
   "source": [
    "division_result = 7/3"
   ]
  },
  {
   "cell_type": "markdown",
   "id": "28a11d00-1b26-44fc-8a18-5630588028bd",
   "metadata": {},
   "source": [
    "---\n",
    "\n",
    "### Exercise 46:\n",
    "Create a variable `speed` and assign it the value of 100 kilometers per hour.\n",
    "\n",
    "```python\n",
    "# Exercise 46\n",
    "```"
   ]
  },
  {
   "cell_type": "code",
   "execution_count": 120,
   "id": "0d94a82c-a101-48de-9694-934386270f4e",
   "metadata": {},
   "outputs": [],
   "source": [
    "speed = 100"
   ]
  },
  {
   "cell_type": "markdown",
   "id": "596d8b03-b591-4921-a536-5f8c56d73d7d",
   "metadata": {},
   "source": [
    "---\n",
    "\n",
    "### Exercise 47:\n",
    "Assign a multi-variable equation like `y = 3x + 5` where `x = 4` to a variable `y`.\n",
    "\n",
    "```python\n",
    "# Exercise 47\n",
    "```\n",
    "\n",
    "---"
   ]
  },
  {
   "cell_type": "code",
   "execution_count": 122,
   "id": "c1ecc21b-925e-4341-8ae7-9c241e0a893a",
   "metadata": {},
   "outputs": [],
   "source": [
    "x = 4\n",
    "y = 3 * x + 5"
   ]
  },
  {
   "cell_type": "markdown",
   "id": "7c640a53-f2b7-4e00-8350-cf111d7bbcc9",
   "metadata": {},
   "source": [
    "---\n",
    "\n",
    "### Exercise 39:\n",
    "Assign a multi-line string to a variable `description`.\n",
    "\n",
    "```python\n",
    "# Exercise 39\n",
    "```"
   ]
  },
  {
   "cell_type": "code",
   "execution_count": 129,
   "id": "d68d6380-66b5-4452-b1b3-b48d2f3990cc",
   "metadata": {},
   "outputs": [
    {
     "name": "stdout",
     "output_type": "stream",
     "text": [
      "Ousseynou est gentil \n"
     ]
    }
   ],
   "source": [
    "description = \"\"\"Ousseynou est gentil \"\"\"\n",
    "print(description)"
   ]
  },
  {
   "cell_type": "markdown",
   "id": "89e48b6b-48b2-459b-a049-5967910dc15a",
   "metadata": {},
   "source": [
    "### Exercise 48:\n",
    "Use variables to calculate and store the average of three numbers.\n",
    "\n",
    "```python\n",
    "# Exercise 48\n",
    "```\n",
    "\n",
    "****"
   ]
  },
  {
   "cell_type": "code",
   "execution_count": 124,
   "id": "177991f8-7407-46e3-a2e7-88db07ece8a6",
   "metadata": {},
   "outputs": [],
   "source": [
    "numbers = [ 15, 14, 13, 12]\n",
    "average = sum(numbers) / len(numbers)"
   ]
  }
 ],
 "metadata": {
  "colab": {
   "provenance": []
  },
  "kernelspec": {
   "display_name": "Python 3 (ipykernel)",
   "language": "python",
   "name": "python3"
  },
  "language_info": {
   "codemirror_mode": {
    "name": "ipython",
    "version": 3
   },
   "file_extension": ".py",
   "mimetype": "text/x-python",
   "name": "python",
   "nbconvert_exporter": "python",
   "pygments_lexer": "ipython3",
   "version": "3.12.5"
  }
 },
 "nbformat": 4,
 "nbformat_minor": 5
}
