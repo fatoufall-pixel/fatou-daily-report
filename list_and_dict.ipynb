{
 "cells": [
  {
   "cell_type": "code",
   "execution_count": 38,
   "id": "0b76a3bd-b7c8-44cf-8473-f53b12d40583",
   "metadata": {},
   "outputs": [],
   "source": [
    "my_first_list = [\"Fatou\", \"Fall\", 30, 1.83]"
   ]
  },
  {
   "cell_type": "code",
   "execution_count": 39,
   "id": "7d0a3186-07e2-46cb-93f1-d136388bd113",
   "metadata": {},
   "outputs": [
    {
     "name": "stdout",
     "output_type": "stream",
     "text": [
      "['Fatou', 'Fall', 30, 1.83]\n"
     ]
    }
   ],
   "source": [
    "print(my_first_list)"
   ]
  },
  {
   "cell_type": "code",
   "execution_count": 40,
   "id": "b3d000c1-094a-43ba-b325-5e6a14d58173",
   "metadata": {},
   "outputs": [
    {
     "data": {
      "text/plain": [
       "list"
      ]
     },
     "execution_count": 40,
     "metadata": {},
     "output_type": "execute_result"
    }
   ],
   "source": [
    "type(my_first_list)"
   ]
  },
  {
   "cell_type": "code",
   "execution_count": 41,
   "id": "f41cb715-c1cc-4d5f-afc0-87bb00b78cf5",
   "metadata": {},
   "outputs": [],
   "source": [
    "my_second_list = [\"Ousseynou\", \"Fall\", 26, 1.93]\n",
    "my_third_list = [\"Moctar\", \"Fall\", 41, 1.72]"
   ]
  },
  {
   "cell_type": "code",
   "execution_count": 42,
   "id": "a55a95c3-d8b7-47f6-a982-3eb9cc6ba24c",
   "metadata": {},
   "outputs": [
    {
     "data": {
      "text/plain": [
       "[['Fatou', 'Fall', 30, 1.83],\n",
       " ['Ousseynou', 'Fall', 26, 1.93],\n",
       " ['Moctar', 'Fall', 41, 1.72]]"
      ]
     },
     "execution_count": 42,
     "metadata": {},
     "output_type": "execute_result"
    }
   ],
   "source": [
    "my_family = [my_first_list,my_second_list,my_third_list]\n",
    "my_family"
   ]
  },
  {
   "cell_type": "code",
   "execution_count": 43,
   "id": "31251053-ac08-493e-aa0c-c7c89e06917b",
   "metadata": {},
   "outputs": [
    {
     "data": {
      "text/plain": [
       "[['Fatou', 'Fall', 30, 1.83], 'Fatou', 'Fall', 30, 1.83]"
      ]
     },
     "execution_count": 43,
     "metadata": {},
     "output_type": "execute_result"
    }
   ],
   "source": [
    "my_family_1 = [my_first_list, \"Fatou\", \"Fall\", 30, 1.83]\n",
    "my_family_1              "
   ]
  },
  {
   "cell_type": "code",
   "execution_count": 44,
   "id": "de43865c-17de-4730-8a71-576abf5e16d5",
   "metadata": {},
   "outputs": [
    {
     "data": {
      "text/plain": [
       "['Fatou', 'Fall', 30, 1.83]"
      ]
     },
     "execution_count": 44,
     "metadata": {},
     "output_type": "execute_result"
    }
   ],
   "source": [
    "my_family_1[0]"
   ]
  },
  {
   "cell_type": "code",
   "execution_count": 45,
   "id": "86ebec96-f54c-4985-8d08-d99125ba016d",
   "metadata": {},
   "outputs": [
    {
     "data": {
      "text/plain": [
       "1.83"
      ]
     },
     "execution_count": 45,
     "metadata": {},
     "output_type": "execute_result"
    }
   ],
   "source": [
    "my_family_1[0][3]"
   ]
  },
  {
   "cell_type": "code",
   "execution_count": 46,
   "id": "f135584c-da89-40e8-87a8-5da29406b867",
   "metadata": {},
   "outputs": [
    {
     "data": {
      "text/plain": [
       "list"
      ]
     },
     "execution_count": 46,
     "metadata": {},
     "output_type": "execute_result"
    }
   ],
   "source": [
    "type(my_family_1[0])"
   ]
  },
  {
   "cell_type": "code",
   "execution_count": 47,
   "id": "c1506e15-e5d0-49e1-be6b-d64687775284",
   "metadata": {},
   "outputs": [
    {
     "data": {
      "text/plain": [
       "1.83"
      ]
     },
     "execution_count": 47,
     "metadata": {},
     "output_type": "execute_result"
    }
   ],
   "source": [
    "my_family_1[0][-1]"
   ]
  },
  {
   "cell_type": "code",
   "execution_count": 48,
   "id": "30e8dbef-e5ef-441f-9e8e-d85e09c5185c",
   "metadata": {},
   "outputs": [],
   "source": [
    "my_1 = [\"Fatou\", \"Fall\", 30, 1.83]\n",
    "my_2 = [\"AIMS SN\", \"Python\", 14]"
   ]
  },
  {
   "cell_type": "code",
   "execution_count": 49,
   "id": "e37e6de5-14be-4b6a-843e-bf8696ec74c3",
   "metadata": {},
   "outputs": [
    {
     "data": {
      "text/plain": [
       "['Fatou', 'Fall', 30, 1.83, 'AIMS SN', 'Python', 14]"
      ]
     },
     "execution_count": 49,
     "metadata": {},
     "output_type": "execute_result"
    }
   ],
   "source": [
    "my_1 + my_2"
   ]
  },
  {
   "cell_type": "code",
   "execution_count": 50,
   "id": "02382921-c976-4206-ae50-d482c0d1767a",
   "metadata": {},
   "outputs": [
    {
     "data": {
      "text/plain": [
       "['AIMS SN', 'Python', 14, 'Fatou', 'Fall', 30, 1.83]"
      ]
     },
     "execution_count": 50,
     "metadata": {},
     "output_type": "execute_result"
    }
   ],
   "source": [
    "my_2 + my_1"
   ]
  },
  {
   "cell_type": "code",
   "execution_count": 51,
   "id": "6550da2c-cbe7-4d29-aa3c-13cd19725f59",
   "metadata": {},
   "outputs": [],
   "source": [
    "my_1.append(7)"
   ]
  },
  {
   "cell_type": "code",
   "execution_count": 52,
   "id": "6f45fb08-c66f-4ae5-a34d-a48bf2abe976",
   "metadata": {},
   "outputs": [
    {
     "data": {
      "text/plain": [
       "['Fatou', 'Fall', 30, 1.83, 7]"
      ]
     },
     "execution_count": 52,
     "metadata": {},
     "output_type": "execute_result"
    }
   ],
   "source": [
    "my_1"
   ]
  },
  {
   "cell_type": "code",
   "execution_count": 53,
   "id": "72d36912-27d1-4051-a102-7596856c76ba",
   "metadata": {},
   "outputs": [
    {
     "data": {
      "text/plain": [
       "<function list.extend(iterable, /)>"
      ]
     },
     "execution_count": 53,
     "metadata": {},
     "output_type": "execute_result"
    }
   ],
   "source": [
    "my_1.extend"
   ]
  },
  {
   "cell_type": "code",
   "execution_count": 54,
   "id": "14ee51f5-1843-4395-872b-e6d6971a6861",
   "metadata": {},
   "outputs": [],
   "source": [
    "my_1.extend([6])"
   ]
  },
  {
   "cell_type": "code",
   "execution_count": 55,
   "id": "2ca9a999-6d28-4430-a424-d47a9fdee5ab",
   "metadata": {},
   "outputs": [
    {
     "data": {
      "text/plain": [
       "['Fatou', 'Fall', 30, 1.83, 7, 6]"
      ]
     },
     "execution_count": 55,
     "metadata": {},
     "output_type": "execute_result"
    }
   ],
   "source": [
    "my_1"
   ]
  },
  {
   "cell_type": "code",
   "execution_count": 56,
   "id": "3c881877-c7a7-4781-9a03-10305c4c3d04",
   "metadata": {},
   "outputs": [
    {
     "data": {
      "text/plain": [
       "['Fatou', 'Fall', 30, 1.83, 7, 6, [7]]"
      ]
     },
     "execution_count": 56,
     "metadata": {},
     "output_type": "execute_result"
    }
   ],
   "source": [
    "my_1.append([7])\n",
    "my_1"
   ]
  },
  {
   "cell_type": "code",
   "execution_count": 57,
   "id": "ff778d12-97d0-4de4-ba85-a1bc75ec3312",
   "metadata": {},
   "outputs": [
    {
     "data": {
      "text/plain": [
       "['Fatou', 'Fall', 30, 1.83, 7, 6, [7], 'Fatou', 'Fall', 30, 1.83, 7, 6, [7]]"
      ]
     },
     "execution_count": 57,
     "metadata": {},
     "output_type": "execute_result"
    }
   ],
   "source": [
    "2* my_1"
   ]
  },
  {
   "cell_type": "code",
   "execution_count": 58,
   "id": "c63c0b84-2a11-4d79-91e6-edfd70fdc56e",
   "metadata": {},
   "outputs": [
    {
     "data": {
      "text/plain": [
       "True"
      ]
     },
     "execution_count": 58,
     "metadata": {},
     "output_type": "execute_result"
    }
   ],
   "source": [
    "2* my_1 == my_1 + my_1"
   ]
  },
  {
   "cell_type": "code",
   "execution_count": 59,
   "id": "1ef7c212-955c-4dcf-a4ff-1280b7a37fa7",
   "metadata": {},
   "outputs": [
    {
     "data": {
      "text/plain": [
       "['Fatou', 'Fall', 30, 1.83, 7, 6, [7], 'Fatou', 'Fall', 30, 1.83, 7, 6, [7]]"
      ]
     },
     "execution_count": 59,
     "metadata": {},
     "output_type": "execute_result"
    }
   ],
   "source": [
    "2* my_1"
   ]
  },
  {
   "cell_type": "code",
   "execution_count": 61,
   "id": "b311e7db-631d-4531-bd8f-2f9e011d385e",
   "metadata": {},
   "outputs": [
    {
     "ename": "TypeError",
     "evalue": "can't multiply sequence by non-int of type 'float'",
     "output_type": "error",
     "traceback": [
      "\u001b[0;31m---------------------------------------------------------------------------\u001b[0m",
      "\u001b[0;31mTypeError\u001b[0m                                 Traceback (most recent call last)",
      "Cell \u001b[0;32mIn[61], line 1\u001b[0m\n\u001b[0;32m----> 1\u001b[0m \u001b[38;5;241;43m2.58\u001b[39;49m\u001b[38;5;241;43m*\u001b[39;49m\u001b[43m \u001b[49m\u001b[43mmy_1\u001b[49m\n",
      "\u001b[0;31mTypeError\u001b[0m: can't multiply sequence by non-int of type 'float'"
     ]
    }
   ],
   "source": [
    "2.58* my_1"
   ]
  },
  {
   "cell_type": "code",
   "execution_count": 62,
   "id": "5ea019a2-ee38-4d40-8338-50b439e53e4e",
   "metadata": {},
   "outputs": [],
   "source": [
    "my_dict_1 = {'people1': [\"Fatou\", \"Fall\", 23, 1.90],'people2': [\"Moctar\", \"Fall\", 32, 1.50]}"
   ]
  },
  {
   "cell_type": "code",
   "execution_count": 63,
   "id": "aa869608-2efe-4169-a75b-22d00f4bd1cd",
   "metadata": {},
   "outputs": [
    {
     "data": {
      "text/plain": [
       "{'people1': ['Fatou', 'Fall', 23, 1.9], 'people2': ['Moctar', 'Fall', 32, 1.5]}"
      ]
     },
     "execution_count": 63,
     "metadata": {},
     "output_type": "execute_result"
    }
   ],
   "source": [
    "my_dict_1"
   ]
  },
  {
   "cell_type": "code",
   "execution_count": 64,
   "id": "73ade40c-7e6e-4de5-af04-5c02da005d7d",
   "metadata": {},
   "outputs": [
    {
     "data": {
      "text/plain": [
       "['Fatou', 'Fall', 23, 1.9]"
      ]
     },
     "execution_count": 64,
     "metadata": {},
     "output_type": "execute_result"
    }
   ],
   "source": [
    "my_dict_1['people1']"
   ]
  },
  {
   "cell_type": "code",
   "execution_count": 20,
   "id": "c7cb3685-9477-4d9f-b54f-a57590c46af1",
   "metadata": {},
   "outputs": [],
   "source": [
    "my_dict_1['people'] = [\"Mamadou\", \"Bah\", 47, 1.43]"
   ]
  },
  {
   "cell_type": "code",
   "execution_count": 65,
   "id": "8dc119a5-f921-4e4e-8914-e5331955ae37",
   "metadata": {},
   "outputs": [
    {
     "data": {
      "text/plain": [
       "{'people1': ['Fatou', 'Fall', 23, 1.9], 'people2': ['Moctar', 'Fall', 32, 1.5]}"
      ]
     },
     "execution_count": 65,
     "metadata": {},
     "output_type": "execute_result"
    }
   ],
   "source": [
    "my_dict_1"
   ]
  },
  {
   "cell_type": "code",
   "execution_count": 27,
   "id": "514f81a6-9951-4981-b315-b501f5508660",
   "metadata": {},
   "outputs": [
    {
     "data": {
      "text/plain": [
       "{'people1': ['Fatou', 'Fall', 23, 1.9],\n",
       " 'peope2': ['Moctar', 'Fall', 32, 1.5],\n",
       " 'people': ['Mamadou', 'Bah', 47, 1.43],\n",
       " 'people3': ['Mamadou', 'Moctar', 49, 1.53]}"
      ]
     },
     "execution_count": 27,
     "metadata": {},
     "output_type": "execute_result"
    }
   ],
   "source": [
    "my_dict_1['people3'] = [\"Mamadou\", \"Moctar\",49, 1.53]\n",
    "my_dict_1"
   ]
  },
  {
   "cell_type": "code",
   "execution_count": 72,
   "id": "ae292188-dc6e-4b64-ae7c-da664b074bfc",
   "metadata": {},
   "outputs": [
    {
     "data": {
      "text/plain": [
       "{'people1': ['Fatou', 'Fall', 23, 1.9],\n",
       " 'people2': ['Moctar', 'Fall', 32, 1.5],\n",
       " 'people3': ['Mamadou', 'Moctar', 49, 1.53]}"
      ]
     },
     "execution_count": 72,
     "metadata": {},
     "output_type": "execute_result"
    }
   ],
   "source": [
    "my_dict_2 = {'people1':[\"Fatou\", \"Fall\",23, 1.9], 'people2': [\"Moctar\", \"Fall\", 32, 1.5],\n",
    "             'people3': [\"Mamadou\", \"Fall\",47, 1.43],\n",
    "             'people3':[\"Mamadou\", \"Moctar\",49, 1.53]}\n",
    "my_dict_2\n"
   ]
  },
  {
   "cell_type": "code",
   "execution_count": 74,
   "id": "49e0ed88-343d-4fd1-b314-c1c3fec051b5",
   "metadata": {},
   "outputs": [
    {
     "data": {
      "text/plain": [
       "dict_items([('people1', ['Fatou', 'Fall', 23, 1.9]), ('people2', ['Moctar', 'Fall', 32, 1.5]), ('people3', ['Mamadou', 'Moctar', 49, 1.53])])"
      ]
     },
     "execution_count": 74,
     "metadata": {},
     "output_type": "execute_result"
    }
   ],
   "source": [
    "my_dict_2.items()"
   ]
  },
  {
   "cell_type": "code",
   "execution_count": 75,
   "id": "2a499912-8c09-47d2-830e-213194fbd52c",
   "metadata": {},
   "outputs": [
    {
     "data": {
      "text/plain": [
       "dict_keys(['people1', 'people2', 'people3'])"
      ]
     },
     "execution_count": 75,
     "metadata": {},
     "output_type": "execute_result"
    }
   ],
   "source": [
    "my_dict_2.keys()"
   ]
  },
  {
   "cell_type": "code",
   "execution_count": 76,
   "id": "736ebd45-bc2c-4616-97bf-907da48b4432",
   "metadata": {},
   "outputs": [
    {
     "data": {
      "text/plain": [
       "<function dict.update>"
      ]
     },
     "execution_count": 76,
     "metadata": {},
     "output_type": "execute_result"
    }
   ],
   "source": [
    "my_dict_1.update"
   ]
  }
 ],
 "metadata": {
  "kernelspec": {
   "display_name": "Python 3 (ipykernel)",
   "language": "python",
   "name": "python3"
  },
  "language_info": {
   "codemirror_mode": {
    "name": "ipython",
    "version": 3
   },
   "file_extension": ".py",
   "mimetype": "text/x-python",
   "name": "python",
   "nbconvert_exporter": "python",
   "pygments_lexer": "ipython3",
   "version": "3.12.5"
  }
 },
 "nbformat": 4,
 "nbformat_minor": 5
}
