{
 "cells": [
  {
   "cell_type": "markdown",
   "id": "d68c1dee",
   "metadata": {
    "id": "d68c1dee"
   },
   "source": [
    "# Practical_3: Iterable objects or Containers"
   ]
  },
  {
   "cell_type": "markdown",
   "id": "e483b4ad-904a-4114-843d-83ddb93ddd9a",
   "metadata": {},
   "source": [
    "---\n",
    "\n",
    "### Exercise 1:\n",
    "Create a list of integers from 1 to 10.\n",
    "\n",
    "```python\n",
    "# Exercise 1\n",
    "```\n"
   ]
  },
  {
   "cell_type": "code",
   "execution_count": 1,
   "id": "86862f0c-8656-430f-9f17-75207540f780",
   "metadata": {},
   "outputs": [
    {
     "name": "stdout",
     "output_type": "stream",
     "text": [
      "liste: [1, 2, 3, 4, 5, 6, 7, 8, 9, 10]\n"
     ]
    }
   ],
   "source": [
    "numbers_list = list(range(1, 11))\n",
    "print(\"liste:\", numbers_list)"
   ]
  },
  {
   "cell_type": "markdown",
   "id": "ef448657-020c-4255-acd8-0ed42adc694d",
   "metadata": {},
   "source": [
    "---\n",
    "\n",
    "### Exercise 2:\n",
    "Create a tuple containing the elements `\"apple\"`, `\"banana\"`, and `\"cherry\"`.\n",
    "\n",
    "```python\n",
    "# Exercise 2\n",
    "```"
   ]
  },
  {
   "cell_type": "code",
   "execution_count": 2,
   "id": "db867e42-2751-4617-9b76-fb51deed3dba",
   "metadata": {},
   "outputs": [
    {
     "name": "stdout",
     "output_type": "stream",
     "text": [
      "fruits ('apple', 'banana', 'cherry')\n"
     ]
    }
   ],
   "source": [
    "fruits_tuple = (\"apple\", \"banana\", \"cherry\")\n",
    "print(\"fruits\" , fruits_tuple)"
   ]
  },
  {
   "cell_type": "markdown",
   "id": "42049099-4533-4d70-9b8f-eceafcfb7ef2",
   "metadata": {},
   "source": [
    "---\n",
    "\n",
    "### Exercise 3:\n",
    "Convert the list `numbers = [10, 20, 30, 40]` into a tuple.\n",
    "\n",
    "```python\n",
    "# Exercise 3\n",
    "```\n",
    "\n",
    "---"
   ]
  },
  {
   "cell_type": "code",
   "execution_count": 4,
   "id": "e66915ad-a155-4357-9b7a-bedfd54ad26b",
   "metadata": {},
   "outputs": [
    {
     "name": "stdout",
     "output_type": "stream",
     "text": [
      "T: (10, 20, 30, 40)\n"
     ]
    }
   ],
   "source": [
    "numbers = [10, 20, 30, 40]\n",
    "numbers_tuple = tuple(numbers)\n",
    "print(\"T:\", numbers_tuple)"
   ]
  },
  {
   "cell_type": "markdown",
   "id": "858ad034-eefe-4d75-a11e-6324b64c5d37",
   "metadata": {},
   "source": [
    "### Exercise 4:\n",
    "Create a set containing the elements `1, 2, 3, 4, 5`.\n",
    "\n",
    "```python\n",
    "# Exercise 4\n",
    "```"
   ]
  },
  {
   "cell_type": "code",
   "execution_count": 5,
   "id": "7938063a-5a5f-4e0a-8038-8fc55f13db6b",
   "metadata": {},
   "outputs": [
    {
     "name": "stdout",
     "output_type": "stream",
     "text": [
      "T1: {1, 2, 3, 4, 5}\n"
     ]
    }
   ],
   "source": [
    "numbers_set = {1, 2, 3, 4, 5}\n",
    "print(\"T1:\", numbers_set)"
   ]
  },
  {
   "cell_type": "markdown",
   "id": "cd11d06a-cbd0-4ae0-abbf-59d47a752a4e",
   "metadata": {},
   "source": [
    "---\n",
    "\n",
    "### Exercise 5:\n",
    "Create a dictionary `student` with the keys `\"name\"`, `\"age\"`, and `\"grade\"` and corresponding values `\"Alice\"`, `20`, and `\"A\"`.\n",
    "\n",
    "```python\n",
    "# Exercise 5\n",
    "```"
   ]
  },
  {
   "cell_type": "code",
   "execution_count": 11,
   "id": "eab9efc7-72e0-4938-867c-b4c4c3fdcc95",
   "metadata": {},
   "outputs": [
    {
     "name": "stdout",
     "output_type": "stream",
     "text": [
      "T2: {'name': 'Alice', 'age': 20, 'grade': '9P'}\n"
     ]
    }
   ],
   "source": [
    "student = {\"name\": \"Alice\",\n",
    "           \"age\": 20,\n",
    "           \"grade\": \"9P\"}\n",
    "print(\"T2:\", student)"
   ]
  },
  {
   "cell_type": "markdown",
   "id": "8ce10f98-72ad-4f85-8830-dfeebde6d179",
   "metadata": {},
   "source": [
    "---\n",
    "\n",
    "### Exercise 6:\n",
    "Access the second element of the list `[10, 20, 30, 40, 50]` using indexing.\n",
    "\n",
    "```python\n",
    "# Exercise 6\n",
    "```"
   ]
  },
  {
   "cell_type": "code",
   "execution_count": 12,
   "id": "e4d45321-b5b6-419c-b930-92c6889751b6",
   "metadata": {},
   "outputs": [
    {
     "name": "stdout",
     "output_type": "stream",
     "text": [
      "20\n"
     ]
    }
   ],
   "source": [
    "my_list = [10, 20, 30, 40, 50]\n",
    "second_element = my_list[1]\n",
    "print(second_element)\n"
   ]
  },
  {
   "cell_type": "markdown",
   "id": "d0463500-c4b9-49ca-ae83-4b8dbb642a97",
   "metadata": {},
   "source": [
    "---\n",
    "\n",
    "### Exercise 7:\n",
    "Change the third element of the list `fruits = [\"apple\", \"banana\", \"cherry\", \"orange\"]` to `\"mango\"`.\n",
    "\n",
    "```python\n",
    "# Exercise 7\n",
    "```\n"
   ]
  },
  {
   "cell_type": "code",
   "execution_count": 14,
   "id": "1b97226f-7f23-4988-bc3e-6f788dbe3bcf",
   "metadata": {},
   "outputs": [
    {
     "name": "stdout",
     "output_type": "stream",
     "text": [
      "['apple', 'banana', 'mango', 'orange']\n"
     ]
    }
   ],
   "source": [
    "# Exercise 7\n",
    "fruits = [\"apple\", \"banana\", \"cherry\", \"orange\"]\n",
    "fruits[2] = \"mango\"\n",
    "print(fruits)\n"
   ]
  },
  {
   "cell_type": "markdown",
   "id": "add23f34-eb92-46df-a967-6e6d9f48c99e",
   "metadata": {},
   "source": [
    "---\n",
    "\n",
    "### Exercise 8:\n",
    "Add the number `6` to the set `numbers = {1, 2, 3, 4, 5}`.\n",
    "\n",
    "```python\n",
    "# Exercise 8"
   ]
  },
  {
   "cell_type": "code",
   "execution_count": 15,
   "id": "f81c56c8-4f24-45aa-b495-0ec59d6d1694",
   "metadata": {},
   "outputs": [
    {
     "name": "stdout",
     "output_type": "stream",
     "text": [
      "{1, 2, 3, 4, 5, 6}\n"
     ]
    }
   ],
   "source": [
    "\n",
    "numbers = {1, 2, 3, 4, 5}\n",
    "numbers.add(6)\n",
    "print(numbers)\n"
   ]
  },
  {
   "cell_type": "markdown",
   "id": "337a2ce0-b8a0-4cf8-a2d7-f527a84eaa64",
   "metadata": {},
   "source": [
    "---\n",
    "\n",
    "### Exercise 9:\n",
    "Remove the key `\"age\"` from the dictionary `person = {\"name\": \"John\", \"age\": 25, \"city\": \"New York\"}`.\n",
    "\n",
    "```python\n",
    "# Exercise 9\n",
    "```"
   ]
  },
  {
   "cell_type": "code",
   "execution_count": 16,
   "id": "c4398b3e-a0d0-4758-8679-bc5d352a5487",
   "metadata": {},
   "outputs": [
    {
     "name": "stdout",
     "output_type": "stream",
     "text": [
      "{'name': 'John', 'city': 'New York'}\n"
     ]
    }
   ],
   "source": [
    "\n",
    "person = {\"name\": \"John\", \"age\": 25, \"city\": \"New York\"}\n",
    "del person[\"age\"]\n",
    "print(person)\n"
   ]
  },
  {
   "cell_type": "markdown",
   "id": "571523d6-5621-4679-bc95-be3a9e00ca32",
   "metadata": {},
   "source": [
    "---\n",
    "\n",
    "### Exercise 10:\n",
    "Create a range object starting from 0 to 9.\n",
    "\n",
    "```python\n",
    "# Exercise 10\n",
    "```\n"
   ]
  },
  {
   "cell_type": "code",
   "execution_count": 17,
   "id": "b53ee130-08be-4ff5-93bf-39dc2271d65d",
   "metadata": {},
   "outputs": [
    {
     "name": "stdout",
     "output_type": "stream",
     "text": [
      "[0, 1, 2, 3, 4, 5, 6, 7, 8, 9]\n"
     ]
    }
   ],
   "source": [
    "\n",
    "numbers = range(10)\n",
    "print(list(numbers))  \n"
   ]
  },
  {
   "cell_type": "markdown",
   "id": "a01afff5-f3dd-4459-900a-65c7328388c2",
   "metadata": {},
   "source": [
    "---\n",
    "\n",
    "### Exercise 11:\n",
    "Use a list comprehension to create a list of squares of numbers from 1 to 10.\n",
    "\n",
    "```python\n",
    "# Exercise 11\n",
    "```\n",
    "\n",
    "---\n"
   ]
  },
  {
   "cell_type": "code",
   "execution_count": 18,
   "id": "df55921f-109c-4f47-8465-c9d96c8514b1",
   "metadata": {},
   "outputs": [
    {
     "name": "stdout",
     "output_type": "stream",
     "text": [
      "[1, 4, 9, 16, 25, 36, 49, 64, 81, 100]\n"
     ]
    }
   ],
   "source": [
    "\n",
    "squares = [x**2 for x in range(1, 11)]\n",
    "print(squares)\n"
   ]
  },
  {
   "cell_type": "markdown",
   "id": "c1db32d9-6b77-4e92-b3b5-bf3fe849282f",
   "metadata": {},
   "source": [
    "### Exercise 12:\n",
    "Create a tuple of even numbers between 2 and 10 using a tuple comprehension.\n",
    "\n",
    "```python\n",
    "# Exercise 12\n",
    "```\n",
    "\n",
    "---\n"
   ]
  },
  {
   "cell_type": "code",
   "execution_count": 19,
   "id": "63b5573e-dfe2-4333-8984-ba64ec031dd2",
   "metadata": {},
   "outputs": [
    {
     "name": "stdout",
     "output_type": "stream",
     "text": [
      "(2, 4, 6, 8, 10)\n"
     ]
    }
   ],
   "source": [
    "\n",
    "even_numbers = tuple(x for x in range(2, 11) if x % 2 == 0)\n",
    "print(even_numbers)\n"
   ]
  },
  {
   "cell_type": "markdown",
   "id": "67da45aa-97eb-4d87-899f-0c88ae19b508",
   "metadata": {},
   "source": [
    "### Exercise 13:\n",
    "Use a for loop to iterate through the list `fruits = [\"apple\", \"banana\", \"cherry\"]` and print each element.\n",
    "\n",
    "```python\n",
    "# Exercise 13\n",
    "```\n"
   ]
  },
  {
   "cell_type": "code",
   "execution_count": 20,
   "id": "e25fb3aa-3b53-4fae-80dd-3cb4de56c60f",
   "metadata": {},
   "outputs": [
    {
     "name": "stdout",
     "output_type": "stream",
     "text": [
      "apple\n",
      "banana\n",
      "cherry\n"
     ]
    }
   ],
   "source": [
    "\n",
    "fruits = [\"apple\", \"banana\", \"cherry\"]\n",
    "\n",
    "for fruit in fruits:\n",
    "    print(fruit)\n"
   ]
  },
  {
   "cell_type": "markdown",
   "id": "f60875e8-1973-4ba4-9e9f-57749f8ba63b",
   "metadata": {},
   "source": [
    "---\n",
    "\n",
    "### Exercise 14:\n",
    "Check if the value `3` exists in the set `numbers = {1, 2, 3, 4, 5}`.\n",
    "\n",
    "```python\n",
    "# Exercise 14\n",
    "```"
   ]
  },
  {
   "cell_type": "code",
   "execution_count": 21,
   "id": "d7dc803f-c043-4208-bbef-83585299d267",
   "metadata": {},
   "outputs": [
    {
     "name": "stdout",
     "output_type": "stream",
     "text": [
      "3 exists in the set\n"
     ]
    }
   ],
   "source": [
    "\n",
    "numbers = {1, 2, 3, 4, 5}\n",
    "\n",
    "if 3 in numbers:\n",
    "    print(\"3 exists in the set\")\n",
    "else:\n",
    "    print(\"3 does not exist in the set\")\n"
   ]
  },
  {
   "cell_type": "markdown",
   "id": "6d591632-fe85-498b-a2cd-f789a3357bcc",
   "metadata": {},
   "source": [
    "---\n",
    "\n",
    "### Exercise 15:\n",
    "Use the `len()` function to find the length of the tuple `numbers = (10, 20, 30)`.\n",
    "\n",
    "```python\n",
    "# Exercise 15\n",
    "```"
   ]
  },
  {
   "cell_type": "code",
   "execution_count": null,
   "id": "7c06dd4e-b759-499b-93f3-98bbd39ea649",
   "metadata": {},
   "outputs": [],
   "source": [
    "\n",
    "numbers = (10, 20, 30)\n",
    "length = len(numbers)\n",
    "print(length)\n"
   ]
  },
  {
   "cell_type": "markdown",
   "id": "ab57393c-3170-4c93-b262-64d13edb8087",
   "metadata": {},
   "source": [
    "---\n",
    "\n",
    "### Exercise 16:\n",
    "Add the value `100` at the end of the list `scores = [80, 85, 90, 95]`.\n",
    "\n",
    "```python\n",
    "# Exercise 16\n",
    "```"
   ]
  },
  {
   "cell_type": "code",
   "execution_count": 22,
   "id": "44f53433-5951-4c07-ba4b-b41b96d5c7ae",
   "metadata": {},
   "outputs": [
    {
     "name": "stdout",
     "output_type": "stream",
     "text": [
      "[80, 85, 90, 95, 100]\n"
     ]
    }
   ],
   "source": [
    "\n",
    "scores = [80, 85, 90, 95]\n",
    "scores.append(100)\n",
    "print(scores)\n"
   ]
  },
  {
   "cell_type": "markdown",
   "id": "6821e437-c1c7-4603-bd40-15649bcf3129",
   "metadata": {},
   "source": [
    "---\n",
    "\n",
    "### Exercise 17:\n",
    "Write a function that takes a list as input and returns the sum of all elements in the list.\n",
    "\n",
    "```python\n",
    "# Exercise 17\n",
    "```"
   ]
  },
  {
   "cell_type": "code",
   "execution_count": 120,
   "id": "457237e7-81b1-4aab-84ac-b898f991ac94",
   "metadata": {},
   "outputs": [],
   "source": [
    "\n",
    "def sum_list(numbers):\n",
    "    total = 0\n",
    "    for num in numbers:\n",
    "        total += num\n",
    "    return total"
   ]
  },
  {
   "cell_type": "markdown",
   "id": "5f561423-15c3-45ef-9cce-778731802490",
   "metadata": {},
   "source": [
    "---\n",
    "\n",
    "### Exercise 18:\n",
    "Create a set containing the unique elements of the list `numbers = [1, 2, 2, 3, 4, 4, 5]`.\n",
    "\n",
    "```python\n",
    "# Exercise 18\n",
    "```"
   ]
  },
  {
   "cell_type": "code",
   "execution_count": 28,
   "id": "a4fbccba-8473-4e73-a4a2-148c0cf4f5ad",
   "metadata": {},
   "outputs": [
    {
     "name": "stdout",
     "output_type": "stream",
     "text": [
      "{1, 2, 3, 4, 5}\n"
     ]
    }
   ],
   "source": [
    "\n",
    "numbers = [1, 2, 2, 3, 4, 4, 5]\n",
    "unique_numbers = set(numbers)\n",
    "print(unique_numbers)\n"
   ]
  },
  {
   "cell_type": "markdown",
   "id": "c24d68bf-a5d5-48f6-8932-7b5527b6142a",
   "metadata": {},
   "source": [
    "---\n",
    "\n",
    "### Exercise 19:\n",
    "Convert the string `\"hello\"` into a list of characters.\n",
    "\n",
    "```python\n",
    "# Exercise 19\n",
    "```"
   ]
  },
  {
   "cell_type": "code",
   "execution_count": 29,
   "id": "6192ae03-91d2-4633-b83b-aae2285b31a5",
   "metadata": {},
   "outputs": [
    {
     "name": "stdout",
     "output_type": "stream",
     "text": [
      "['h', 'e', 'l', 'l', 'o']\n"
     ]
    }
   ],
   "source": [
    "\n",
    "word = \"hello\"\n",
    "char_list = list(word)\n",
    "print(char_list)\n"
   ]
  },
  {
   "cell_type": "markdown",
   "id": "285e333d-a1b4-40c6-b479-aaca6baa9871",
   "metadata": {},
   "source": [
    "---\n",
    "\n",
    "### Exercise 20:\n",
    "Write a Python function that reverses a tuple `(1, 2, 3, 4)`.\n",
    "\n",
    "```python\n",
    "# Exercise 20\n",
    "```"
   ]
  },
  {
   "cell_type": "code",
   "execution_count": 30,
   "id": "2975ae05-7db0-4813-8646-0246d19b7cf0",
   "metadata": {},
   "outputs": [
    {
     "name": "stdout",
     "output_type": "stream",
     "text": [
      "(4, 3, 2, 1)\n"
     ]
    }
   ],
   "source": [
    "\n",
    "def reverse_tuple(t):\n",
    "    return t[::-1]\n",
    "\n",
    "original = (1, 2, 3, 4)\n",
    "reversed_tuple = reverse_tuple(original)\n",
    "print(reversed_tuple)\n"
   ]
  },
  {
   "cell_type": "markdown",
   "id": "3ecc27eb-047c-4889-800e-2bdfdfdb0fb5",
   "metadata": {},
   "source": [
    "---\n",
    "\n",
    "### Exercise 21:\n",
    "Merge two dictionaries `dict1 = {\"a\": 1, \"b\": 2}` and `dict2 = {\"c\": 3, \"d\": 4}` into a single dictionary.\n",
    "\n",
    "```python\n",
    "# Exercise 21\n",
    "```"
   ]
  },
  {
   "cell_type": "code",
   "execution_count": 122,
   "id": "a443e4f7-9f90-4582-b631-9220fd63c84c",
   "metadata": {},
   "outputs": [],
   "source": [
    "\n",
    "dict1 = {\"a\": 1, \"b\": 2}\n",
    "dict2 = {\"c\": 3, \"d\": 4}\n",
    "merged_dict = {**dict1, **dict2}"
   ]
  },
  {
   "cell_type": "markdown",
   "id": "af73956f-4845-4a5c-b0ee-00a3dd44f943",
   "metadata": {},
   "source": [
    "\n",
    "---\n",
    "\n",
    "### Exercise 22:\n",
    "Create a dictionary where keys are numbers from 1 to 5, and values are their squares.\n",
    "\n",
    "```python\n",
    "# Exercise 22\n",
    "```"
   ]
  },
  {
   "cell_type": "code",
   "execution_count": 34,
   "id": "d6a2100a-6277-4256-8037-4e7f7effc4d5",
   "metadata": {},
   "outputs": [
    {
     "name": "stdout",
     "output_type": "stream",
     "text": [
      "{1: 1, 2: 4, 3: 9, 4: 16, 5: 25}\n"
     ]
    }
   ],
   "source": [
    "\n",
    "squares = {x: x**2 for x in range(1, 6)}\n",
    "print(squares)\n"
   ]
  },
  {
   "cell_type": "markdown",
   "id": "da06165e-86af-4a21-ab6a-390f055203c8",
   "metadata": {},
   "source": [
    "---\n",
    "\n",
    "### Exercise 23:\n",
    "Write a Python program to iterate through a dictionary and print each key-value pair.\n",
    "\n",
    "```python\n",
    "# Exercise 23\n",
    "```"
   ]
  },
  {
   "cell_type": "code",
   "execution_count": 33,
   "id": "95b32fa6-5a84-41bc-85ed-f7a8bc6df397",
   "metadata": {},
   "outputs": [
    {
     "name": "stdout",
     "output_type": "stream",
     "text": [
      "name: Alice\n",
      "age: 30\n",
      "city: Paris\n"
     ]
    }
   ],
   "source": [
    "\n",
    "my_dict = {\"name\": \"Alice\", \"age\": 30, \"city\": \"Paris\"}\n",
    "\n",
    "for key, value in my_dict.items():\n",
    "    print(f\"{key}: {value}\")\n"
   ]
  },
  {
   "cell_type": "markdown",
   "id": "194c5258-ccb3-4eda-b743-a8f1e9fa359a",
   "metadata": {},
   "source": [
    "---\n",
    "\n",
    "### Exercise 24:\n",
    "Create a list of the first 5 letters of the alphabet using the `chr()` function.\n",
    "\n",
    "```python\n",
    "# Exercise 24\n",
    "```"
   ]
  },
  {
   "cell_type": "code",
   "execution_count": 35,
   "id": "8956f9ee-d0dd-4ce4-b777-4dcbdbf27567",
   "metadata": {},
   "outputs": [
    {
     "name": "stdout",
     "output_type": "stream",
     "text": [
      "['a', 'b', 'c', 'd', 'e']\n"
     ]
    }
   ],
   "source": [
    "\n",
    "letters = [chr(i) for i in range(ord('a'), ord('a') + 5)]\n",
    "print(letters)\n"
   ]
  },
  {
   "cell_type": "markdown",
   "id": "c19099a3-cf5e-46ea-81e5-2a2f044a162e",
   "metadata": {},
   "source": [
    "---\n",
    "\n",
    "### Exercise 25:\n",
    "Use the `zip()` function to combine two lists `[1, 2, 3]` and `[\"a\", \"b\", \"c\"]` into a list of tuples.\n",
    "\n",
    "```python\n",
    "# Exercise 25\n",
    "```"
   ]
  },
  {
   "cell_type": "code",
   "execution_count": 36,
   "id": "cfdece99-2c14-4da0-a9a8-27010b3ed65b",
   "metadata": {},
   "outputs": [
    {
     "name": "stdout",
     "output_type": "stream",
     "text": [
      "[(1, 'a'), (2, 'b'), (3, 'c')]\n"
     ]
    }
   ],
   "source": [
    "\n",
    "list1 = [1, 2, 3]\n",
    "list2 = [\"a\", \"b\", \"c\"]\n",
    "\n",
    "zipped = list(zip(list1, list2))\n",
    "print(zipped)\n"
   ]
  },
  {
   "cell_type": "markdown",
   "id": "06d750ba-daf0-4749-b906-10d1b636c2a2",
   "metadata": {},
   "source": [
    "---\n",
    "\n",
    "### Exercise 26:\n",
    "Find the index of the value `50` in the list `[10, 20, 30, 40, 50]`.\n",
    "\n",
    "```python\n",
    "# Exercise 26\n",
    "```\n"
   ]
  },
  {
   "cell_type": "code",
   "execution_count": 37,
   "id": "b72300dc-4326-4016-9b48-66f28e3c30b1",
   "metadata": {},
   "outputs": [
    {
     "name": "stdout",
     "output_type": "stream",
     "text": [
      "4\n"
     ]
    }
   ],
   "source": [
    "\n",
    "numbers = [10, 20, 30, 40, 50]\n",
    "index_of_50 = numbers.index(50)\n",
    "print(index_of_50)\n"
   ]
  },
  {
   "cell_type": "markdown",
   "id": "28b2210a-2cbb-4546-8272-8ba387cfb83c",
   "metadata": {},
   "source": [
    "---\n",
    "\n",
    "### Exercise 27:\n",
    "Sort the list `names = [\"Alice\", \"Bob\", \"Charlie\", \"David\"]` in alphabetical order.\n",
    "\n",
    "```python\n",
    "# Exercise 27\n",
    "```"
   ]
  },
  {
   "cell_type": "code",
   "execution_count": 38,
   "id": "972e91e5-225b-45c8-a38a-4f5fff6d9a45",
   "metadata": {},
   "outputs": [
    {
     "name": "stdout",
     "output_type": "stream",
     "text": [
      "['Alice', 'Bob', 'Charlie', 'David']\n"
     ]
    }
   ],
   "source": [
    "\n",
    "names = [\"Alice\", \"Bob\", \"Charlie\", \"David\"]\n",
    "names.sort() \n",
    "print(names)\n"
   ]
  },
  {
   "cell_type": "markdown",
   "id": "ef53db03-d03e-4706-bf7e-21ef87c5663c",
   "metadata": {},
   "source": [
    "---\n",
    "\n",
    "### Exercise 28:\n",
    "Write a Python function that takes a list of integers as input and returns the largest number.\n",
    "\n",
    "```python\n",
    "# Exercise 28\n",
    "```"
   ]
  },
  {
   "cell_type": "code",
   "execution_count": 39,
   "id": "857ab4e3-22a7-4323-9974-75d49420e5ea",
   "metadata": {},
   "outputs": [
    {
     "name": "stdout",
     "output_type": "stream",
     "text": [
      "99\n"
     ]
    }
   ],
   "source": [
    "\n",
    "def find_largest(numbers):\n",
    "    return max(numbers)\n",
    "print(find_largest([10, 25, 3, 99, 42])) \n"
   ]
  },
  {
   "cell_type": "markdown",
   "id": "d9f9f3bd-a21e-4e2d-9420-24b60e18c34c",
   "metadata": {},
   "source": [
    "---\n",
    "\n",
    "### Exercise 29:\n",
    "Use the `count()` method to count how many times `\"apple\"` appears in the list `fruits = [\"apple\", \"banana\", \"apple\", \"orange\"]`.\n",
    "\n",
    "```python\n",
    "# Exercise 29\n",
    "```"
   ]
  },
  {
   "cell_type": "code",
   "execution_count": 40,
   "id": "616a4e9e-aec5-4e5d-a6d3-7959a5fb01c7",
   "metadata": {},
   "outputs": [
    {
     "name": "stdout",
     "output_type": "stream",
     "text": [
      "2\n"
     ]
    }
   ],
   "source": [
    "\n",
    "fruits = [\"apple\", \"banana\", \"apple\", \"orange\"]\n",
    "apple_count = fruits.count(\"apple\")\n",
    "print(apple_count)\n"
   ]
  },
  {
   "cell_type": "markdown",
   "id": "3614436d-4546-448c-a747-5236f1724174",
   "metadata": {},
   "source": [
    "---\n",
    "\n",
    "### Exercise 30:\n",
    "Create a dictionary `person` where keys are `\"name\"`, `\"age\"`, and `\"city\"`, and values are `\"Alice\"`, `25`, and `\"New York\"` respectively. Then access the value of the `\"city\"` key.\n",
    "\n",
    "```python\n",
    "# Exercise 30\n",
    "```"
   ]
  },
  {
   "cell_type": "code",
   "execution_count": 41,
   "id": "01388b48-ffd0-4bac-90e6-13b56faf501c",
   "metadata": {},
   "outputs": [
    {
     "name": "stdout",
     "output_type": "stream",
     "text": [
      "New York\n"
     ]
    }
   ],
   "source": [
    "\n",
    "person = {\n",
    "    \"name\": \"Alice\",\n",
    "    \"age\": 25,\n",
    "    \"city\": \"New York\"\n",
    "}\n",
    "\n",
    "print(person[\"city\"])\n"
   ]
  },
  {
   "cell_type": "markdown",
   "id": "5b5c13ca-774d-4a71-8e5f-ebc18c1dd26d",
   "metadata": {},
   "source": [
    "---\n",
    "\n",
    "### Exercise 31:\n",
    "Write a Python function that takes a list as input and returns a new list with all duplicates removed.\n",
    "\n",
    "```python\n",
    "# Exercise 31\n",
    "```"
   ]
  },
  {
   "cell_type": "code",
   "execution_count": 42,
   "id": "b186d14a-2074-4262-b360-b1b8688b6e89",
   "metadata": {},
   "outputs": [
    {
     "name": "stdout",
     "output_type": "stream",
     "text": [
      "[1, 2, 3, 4, 5]\n"
     ]
    }
   ],
   "source": [
    "\n",
    "def remove_duplicates(input_list):\n",
    "    return list(set(input_list))\n",
    "my_list = [1, 2, 2, 3, 4, 4, 5]\n",
    "unique_list = remove_duplicates(my_list)\n",
    "print(unique_list)\n"
   ]
  },
  {
   "cell_type": "markdown",
   "id": "31e46d81-3b5f-408b-aae2-971ac797c745",
   "metadata": {},
   "source": [
    "---\n",
    "\n",
    "### Exercise 32:\n",
    "Write a Python function that takes two lists and returns their intersection.\n",
    "\n",
    "```python\n",
    "# Exercise 32\n",
    "```"
   ]
  },
  {
   "cell_type": "code",
   "execution_count": 43,
   "id": "17c127ab-ae09-400a-81b1-11952d043722",
   "metadata": {},
   "outputs": [
    {
     "name": "stdout",
     "output_type": "stream",
     "text": [
      "[3, 4]\n"
     ]
    }
   ],
   "source": [
    "\n",
    "def list_intersection(list1, list2):\n",
    "    return list(set(list1) & set(list2))\n",
    "a = [1, 2, 3, 4]\n",
    "b = [3, 4, 5, 6]\n",
    "result = list_intersection(a, b)\n",
    "print(result) "
   ]
  },
  {
   "cell_type": "markdown",
   "id": "5a9ae0d4-e2ee-47aa-9ea5-415457e2aee8",
   "metadata": {},
   "source": [
    "\n",
    "---\n",
    "\n",
    "### Exercise 33:\n",
    "Create a generator that yields the squares of numbers from 1 to 10.\n",
    "\n",
    "```python\n",
    "# Exercise 33\n",
    "```"
   ]
  },
  {
   "cell_type": "code",
   "execution_count": 44,
   "id": "40e5a2fb-51e2-4750-a41e-397e4e7ef219",
   "metadata": {},
   "outputs": [
    {
     "name": "stdout",
     "output_type": "stream",
     "text": [
      "1\n",
      "4\n",
      "9\n",
      "16\n",
      "25\n",
      "36\n",
      "49\n",
      "64\n",
      "81\n",
      "100\n"
     ]
    }
   ],
   "source": [
    "\n",
    "def square_generator():\n",
    "    for i in range(1, 11):\n",
    "        yield i ** 2\n",
    "for square in square_generator():\n",
    "    print(square)\n"
   ]
  },
  {
   "cell_type": "markdown",
   "id": "d8539764-1f4a-4b87-915c-7ae4a9475b2b",
   "metadata": {},
   "source": [
    "\n",
    "---\n",
    "\n",
    "### Exercise 34:\n",
    "Write a Python function that takes a dictionary as input and returns the sum of all its values.\n",
    "\n",
    "```python\n",
    "# Exercise 34\n",
    "```\n",
    "\n",
    "---\n"
   ]
  },
  {
   "cell_type": "code",
   "execution_count": 51,
   "id": "c0fea0d5-e0f6-4a25-a5bf-77da9b242ca8",
   "metadata": {},
   "outputs": [
    {
     "name": "stdout",
     "output_type": "stream",
     "text": [
      "60\n"
     ]
    }
   ],
   "source": [
    "\n",
    "def sum_dict_values(d):\n",
    "    return sum(d.values())\n",
    "my_dict = {'a': 10, 'b': 20, 'c': 30}\n",
    "print(sum_dict_values(my_dict)) \n"
   ]
  },
  {
   "cell_type": "markdown",
   "id": "d0035912-1604-4e68-ad69-485f5e597b65",
   "metadata": {},
   "source": [
    "\n",
    "\n",
    "### Exercise 35:\n",
    "Use the `sorted()` function to sort the list `[3, 1, 4, 1, 5, 9]` in ascending order.\n",
    "\n",
    "```python\n",
    "# Exercise 35\n",
    "```"
   ]
  },
  {
   "cell_type": "code",
   "execution_count": 50,
   "id": "aa415a7d-6b6d-4e17-80c4-4be4021abafd",
   "metadata": {},
   "outputs": [
    {
     "name": "stdout",
     "output_type": "stream",
     "text": [
      "[1, 1, 3, 4, 5, 9]\n"
     ]
    }
   ],
   "source": [
    "\n",
    "my_list = [3, 1, 4, 1, 5, 9]\n",
    "sorted_list = sorted(my_list)\n",
    "print(sorted_list) \n"
   ]
  },
  {
   "cell_type": "markdown",
   "id": "bc6cc55d-eca3-403b-92dd-8e9cf94654d9",
   "metadata": {},
   "source": [
    "\n",
    "---\n",
    "\n",
    "### Exercise 36:\n",
    "Write a Python function that takes a list of strings as input and returns the longest string.\n",
    "\n",
    "```python\n",
    "# Exercise 36\n",
    "```"
   ]
  },
  {
   "cell_type": "code",
   "execution_count": 49,
   "id": "1021921f-d166-459c-bc0d-90533b1e4e85",
   "metadata": {},
   "outputs": [
    {
     "name": "stdout",
     "output_type": "stream",
     "text": [
      "banana\n"
     ]
    }
   ],
   "source": [
    "\n",
    "def longest_string(strings):\n",
    "    return max(strings, key=len)\n",
    "\n",
    "words = [\"apple\", \"banana\", \"cherry\", \"orange\"]\n",
    "print(longest_string(words)) \n"
   ]
  },
  {
   "cell_type": "markdown",
   "id": "8b49a6a8-e837-4976-a137-0d923890bbf3",
   "metadata": {},
   "source": [
    "\n",
    "---\n",
    "\n",
    "### Exercise 37:\n",
    "Check if all the elements in the list `[1, 2, 3, 4, 5]` are greater than 0 using the `all()` function.\n",
    "\n",
    "```python\n",
    "# Exercise 37\n",
    "```"
   ]
  },
  {
   "cell_type": "code",
   "execution_count": 52,
   "id": "2ba6eac2-0d44-4380-9d7a-a99eb86ff423",
   "metadata": {},
   "outputs": [
    {
     "name": "stdout",
     "output_type": "stream",
     "text": [
      "True\n"
     ]
    }
   ],
   "source": [
    "\n",
    "numbers = [1, 2, 3, 4, 5]\n",
    "all_greater_than_zero = all(num > 0 for num in numbers)\n",
    "print(all_greater_than_zero) \n"
   ]
  },
  {
   "cell_type": "markdown",
   "id": "8039d377-75e6-4a09-8df2-56402db61273",
   "metadata": {},
   "source": [
    "\n",
    "---\n",
    "\n",
    "### Exercise 38:\n",
    "Create a list of tuples where each tuple contains a number and its square for numbers from 1 to 5.\n",
    "\n",
    "```python\n",
    "# Exercise 38\n",
    "```"
   ]
  },
  {
   "cell_type": "code",
   "execution_count": 53,
   "id": "b45aa79f-9514-44a3-9e94-9f242ea4bd0a",
   "metadata": {},
   "outputs": [
    {
     "name": "stdout",
     "output_type": "stream",
     "text": [
      "[(1, 1), (2, 4), (3, 9), (4, 16), (5, 25)]\n"
     ]
    }
   ],
   "source": [
    "\n",
    "squares = [(x, x**2) for x in range(1, 6)]\n",
    "print(squares)\n"
   ]
  },
  {
   "cell_type": "markdown",
   "id": "faae5f82-c082-4c65-9441-f2b9a70d11ce",
   "metadata": {},
   "source": [
    "\n",
    "---\n",
    "\n",
    "### Exercise 39:\n",
    "Write a Python function that takes a list of tuples and returns a list of the second elements from each tuple.\n",
    "\n",
    "```python\n",
    "# Exercise 39\n",
    "```"
   ]
  },
  {
   "cell_type": "code",
   "execution_count": 96,
   "id": "6b732f21-d4a3-448e-81c2-cc1e5077da2b",
   "metadata": {},
   "outputs": [],
   "source": [
    "\n",
    "def get_second_elements(tuples_list):\n",
    "    return [t[1] for t in tuples_list]"
   ]
  },
  {
   "cell_type": "markdown",
   "id": "d76bb9fd-774a-4a7b-8ddc-125c8b5a102a",
   "metadata": {},
   "source": [
    "\n",
    "\n",
    "### Exercise 40:\n",
    "Write a Python function that flattens a list of lists into a single list.\n",
    "\n",
    "```python\n",
    "# Exercise 40\n",
    "```"
   ]
  },
  {
   "cell_type": "code",
   "execution_count": null,
   "id": "71e3c69f-a33e-4eda-bb2c-f42a51ed97be",
   "metadata": {},
   "outputs": [],
   "source": [
    "\n",
    "def flatten_list(list_of_lists):\n",
    "    return [item for sublist in list_of_lists for item in sublist]\n"
   ]
  },
  {
   "cell_type": "markdown",
   "id": "dbff6108-df27-459b-8553-464959a08273",
   "metadata": {},
   "source": [
    "\n",
    "\n",
    "---\n",
    "\n",
    "### Exercise 41:\n",
    "Use the `enumerate()` function to iterate through the list `[\"apple\", \"banana\", \"cherry\"]` and print the index and value.\n",
    "\n",
    "```python\n",
    "# Exercise 41\n",
    "```"
   ]
  },
  {
   "cell_type": "code",
   "execution_count": 97,
   "id": "cf3e9004-138d-4552-8b4d-604d94a7f776",
   "metadata": {},
   "outputs": [
    {
     "name": "stdout",
     "output_type": "stream",
     "text": [
      "0 apple\n",
      "1 banana\n",
      "2 cherry\n"
     ]
    }
   ],
   "source": [
    "\n",
    "fruits = [\"apple\", \"banana\", \"cherry\"]\n",
    "for index, value in enumerate(fruits):\n",
    "    print(index, value)\n",
    "\n"
   ]
  },
  {
   "cell_type": "markdown",
   "id": "5bc2ff4d-e66f-4422-8c11-2440a62ee625",
   "metadata": {},
   "source": [
    "\n",
    "\n",
    "---\n",
    "\n",
    "### Exercise 42:\n",
    "Write a Python program that checks if a tuple is empty.\n",
    "\n",
    "```python\n",
    "# Exercise 42\n",
    "```"
   ]
  },
  {
   "cell_type": "code",
   "execution_count": 125,
   "id": "b422cc95-f561-4c60-b37f-bac795d7c6aa",
   "metadata": {},
   "outputs": [],
   "source": [
    "\n",
    "def is_tuple_empty(t):\n",
    "    return len(t) == 0"
   ]
  },
  {
   "cell_type": "markdown",
   "id": "09c3112e-5708-460f-87c5-90abfbd2d2bd",
   "metadata": {},
   "source": [
    "\n",
    "\n",
    "---\n",
    "\n",
    "### Exercise 43:\n",
    "Create a list of even numbers between 1 and 20 using the `range()` function.\n",
    "\n",
    "```python\n",
    "# Exercise 43\n",
    "```"
   ]
  },
  {
   "cell_type": "code",
   "execution_count": 101,
   "id": "ecac28ab-915c-4628-80b7-e31ebe60820c",
   "metadata": {},
   "outputs": [],
   "source": [
    "\n",
    "even_numbers = list(range(2, 21, 2))\n"
   ]
  },
  {
   "cell_type": "markdown",
   "id": "24addd8c-c403-46ea-9086-687bb1f24193",
   "metadata": {},
   "source": [
    "\n",
    "---\n",
    "\n",
    "### Exercise 44:\n",
    "Write a Python function that takes a list of numbers as input and returns the list in reverse order.\n",
    "\n",
    "```python\n",
    "# Exercise 44\n",
    "```\n"
   ]
  },
  {
   "cell_type": "code",
   "execution_count": 104,
   "id": "1b3027a4-b7c7-4471-a7b4-4d1d09355a0e",
   "metadata": {},
   "outputs": [],
   "source": [
    "\n",
    "def reverse_list(numbers):\n",
    "    return numbers[::-1]\n"
   ]
  },
  {
   "cell_type": "markdown",
   "id": "6ac7228e-af91-4c08-968d-26c734579f7c",
   "metadata": {},
   "source": [
    "\n",
    "---\n",
    "\n",
    "### Exercise 45:\n",
    "Create a dictionary comprehension that maps numbers from 1 to 5 to their cubes.\n",
    "\n",
    "```python\n",
    "# Exercise 45\n",
    "```"
   ]
  },
  {
   "cell_type": "code",
   "execution_count": 106,
   "id": "35577ba7-a7a7-4add-96f5-e81334b73d1d",
   "metadata": {},
   "outputs": [],
   "source": [
    "\n",
    "cubes = {x: x**3 for x in range(1, 6)}\n"
   ]
  },
  {
   "cell_type": "markdown",
   "id": "0c5ab672-661c-4c18-9b01-9a114d76d85d",
   "metadata": {},
   "source": [
    "\n",
    "---\n",
    "\n",
    "### Exercise 46:\n",
    "Write a Python program that creates a new list containing only the unique elements of the list `[1, 2, 2, 3, 4, 4, 5]`.\n",
    "\n",
    "```python\n",
    "# Exercise 46\n",
    "```"
   ]
  },
  {
   "cell_type": "code",
   "execution_count": 109,
   "id": "2c9daf6f-1592-4a98-bb7e-c66e043e6b93",
   "metadata": {},
   "outputs": [
    {
     "data": {
      "text/plain": [
       "[1, 2, 3, 4, 5]"
      ]
     },
     "execution_count": 109,
     "metadata": {},
     "output_type": "execute_result"
    }
   ],
   "source": [
    "\n",
    "def unique_elements(lst):\n",
    "    return list(set(lst))\n",
    "unique_elements([1, 2, 2, 3, 4, 4, 5])  \n"
   ]
  },
  {
   "cell_type": "markdown",
   "id": "800f68df-cd80-4a81-ba38-0834df4b4876",
   "metadata": {},
   "source": [
    "\n",
    "---\n",
    "\n",
    "### Exercise 47:\n",
    "Write a Python function that takes a list of dictionaries and returns a list of the values for a given key.\n",
    "\n",
    "```python\n",
    "# Exercise 47\n",
    "```"
   ]
  },
  {
   "cell_type": "code",
   "execution_count": 126,
   "id": "8c59e671-5e2e-412e-8bce-65a0abcb9ea4",
   "metadata": {},
   "outputs": [],
   "source": [
    "\n",
    "def get_values_for_key(dicts_list, key):\n",
    "    return [d.get(key) for d in dicts_list if key in d]"
   ]
  },
  {
   "cell_type": "markdown",
   "id": "6d828897-3340-45fb-8ff3-02cb2f327960",
   "metadata": {},
   "source": [
    "\n",
    "---\n",
    "\n",
    "### Exercise 48:\n",
    "Write a Python function that uses a generator to yield the Fibonacci sequence up to `n` terms.\n",
    "\n",
    "```python\n",
    "# Exercise 48\n",
    "```"
   ]
  },
  {
   "cell_type": "code",
   "execution_count": 127,
   "id": "485999e8-c32a-46b7-be36-a4e0afe59552",
   "metadata": {},
   "outputs": [],
   "source": [
    "\n",
    "def fibonacci_generator(n):\n",
    "    a, b = 0, 1\n",
    "    for _ in range(n):\n",
    "        yield a\n",
    "        a, b = b, a + b\n"
   ]
  },
  {
   "cell_type": "markdown",
   "id": "8c404377-a644-40b0-badb-7ccee6bf0c8f",
   "metadata": {},
   "source": [
    "\n",
    "---\n",
    "\n",
    "### Exercise 49:\n",
    "Write a Python function that takes a string and returns a list of all unique characters in the string.\n",
    "\n",
    "```python\n",
    "# Exercise 49\n",
    "```"
   ]
  },
  {
   "cell_type": "code",
   "execution_count": 116,
   "id": "e46721ed-6f5d-4db8-af7b-b63b097acdc2",
   "metadata": {},
   "outputs": [],
   "source": [
    "\n",
    "def unique_chars(s):\n",
    "    return list(set(s))\n",
    "   "
   ]
  },
  {
   "cell_type": "markdown",
   "id": "9de26645-8822-4c5d-9744-06a089046938",
   "metadata": {},
   "source": [
    "\n",
    "---\n",
    "\n",
    "### Exercise 50:\n",
    "Write a Python function that merges two sorted lists into a single sorted list.\n",
    "\n",
    "```python\n",
    "# Exercise 50\n",
    "```"
   ]
  },
  {
   "cell_type": "code",
   "execution_count": 54,
   "id": "758951a6-50db-47b2-9ed2-5fda5e8402d8",
   "metadata": {},
   "outputs": [
    {
     "name": "stdout",
     "output_type": "stream",
     "text": [
      "[1, 2, 3, 4, 5, 6]\n"
     ]
    }
   ],
   "source": [
    "\n",
    "def merge_sorted_lists(list1, list2):\n",
    "    return sorted(list1 + list2)\n",
    "\n",
    "a = [1, 3, 5]\n",
    "b = [2, 4, 6]\n",
    "print(merge_sorted_lists(a, b)) \n"
   ]
  },
  {
   "cell_type": "markdown",
   "id": "fdb16d2e-3559-4764-91de-e9ff8b8433be",
   "metadata": {},
   "source": [
    "\n",
    "\n",
    "---\n",
    "\n",
    "### Exercise 51:\n",
    "Use the\n",
    "\n",
    " `filter()` function to filter out odd numbers from the list `[1, 2, 3, 4, 5, 6]`.\n",
    "\n",
    "```python\n",
    "# Exercise 51\n",
    "```"
   ]
  },
  {
   "cell_type": "code",
   "execution_count": 55,
   "id": "0ade44ee-3839-4606-a185-e94d354115aa",
   "metadata": {},
   "outputs": [
    {
     "name": "stdout",
     "output_type": "stream",
     "text": [
      "[2, 4, 6]\n"
     ]
    }
   ],
   "source": [
    "\n",
    "numbers = [1, 2, 3, 4, 5, 6]\n",
    "even_numbers = list(filter(lambda x: x % 2 == 0, numbers))\n",
    "print(even_numbers) "
   ]
  },
  {
   "cell_type": "markdown",
   "id": "4f556901-54c5-483e-9e94-bab2d40d3acf",
   "metadata": {},
   "source": [
    "\n",
    "---\n",
    "\n",
    "### Exercise 52:\n",
    "Write a Python program that converts a list of tuples `[(1, 2), (3, 4), (5, 6)]` into a dictionary.\n",
    "\n",
    "```python\n",
    "# Exercise 52\n",
    "```"
   ]
  },
  {
   "cell_type": "code",
   "execution_count": null,
   "id": "1d24112c-aea2-4973-ba79-4a155714330d",
   "metadata": {},
   "outputs": [],
   "source": [
    "\n",
    "tuple_list = [(1, 2), (3, 4), (5, 6)]\n",
    "result_dict = dict(tuple_list)\n",
    "print(result_dict)\n"
   ]
  },
  {
   "cell_type": "markdown",
   "id": "083c0c21-7b67-43b0-bad5-888dd0a3e460",
   "metadata": {},
   "source": [
    "--- \n",
    "### Exercise 53: \n",
    "Write a Python function that takes two sets and returns their symmetric difference.\n",
    "python\n",
    "# Exercise 53"
   ]
  },
  {
   "cell_type": "code",
   "execution_count": 130,
   "id": "af250b39-9af7-4f7b-878b-b241014c8d04",
   "metadata": {},
   "outputs": [],
   "source": [
    "def symmetric_difference(set1, set2):\n",
    "    return set1.symmetric_difference(set2)"
   ]
  },
  {
   "cell_type": "markdown",
   "id": "c3827b95-7ff0-44ba-9261-4c34fc0e5cb7",
   "metadata": {},
   "source": [
    "--\n",
    "\n",
    "### Exercise 54:\n",
    "Write a Python program that finds the common elements in three lists `list1`, `list2`, and `list3`.\n",
    "\n",
    "```python\n",
    "# Exercise 54\n",
    "```"
   ]
  },
  {
   "cell_type": "code",
   "execution_count": 57,
   "id": "0fce7bbf-b785-47d6-8913-5049aec42236",
   "metadata": {},
   "outputs": [
    {
     "name": "stdout",
     "output_type": "stream",
     "text": [
      "[2, 3]\n"
     ]
    }
   ],
   "source": [
    "\n",
    "def common_elements(list1, list2, list3):\n",
    "    return list(set(list1) & set(list2) & set(list3))\n",
    "\n",
    "a = [1, 2, 3, 4]\n",
    "b = [2, 3, 5]\n",
    "c = [0, 2, 3, 6]\n",
    "print(common_elements(a, b, c)) \n"
   ]
  },
  {
   "cell_type": "markdown",
   "id": "c473bb72-8d93-4c63-91a0-058cf1ca52e7",
   "metadata": {},
   "source": [
    "\n",
    "---\n",
    "\n",
    "### Exercise 55:\n",
    "Write a Python function that returns the factorial of a number using recursion.\n",
    "\n",
    "```python\n",
    "# Exercise 55\n",
    "```"
   ]
  },
  {
   "cell_type": "code",
   "execution_count": 58,
   "id": "bc1f24b3-d943-4932-9568-7a000488b29a",
   "metadata": {},
   "outputs": [
    {
     "name": "stdout",
     "output_type": "stream",
     "text": [
      "120\n"
     ]
    }
   ],
   "source": [
    "\n",
    "def factorial(n):\n",
    "    if n == 0 or n == 1:\n",
    "        return 1\n",
    "    return n * factorial(n - 1)\n",
    "print(factorial(5)) \n"
   ]
  },
  {
   "cell_type": "markdown",
   "id": "f619f19d-bfae-49e3-87cd-88f8c3e72e70",
   "metadata": {},
   "source": [
    "\n",
    "---\n",
    "\n",
    "### Exercise 56:\n",
    "Write a Python program that removes all empty strings from the list `[\"apple\", \"\", \"banana\", \"\", \"cherry\"]`.\n",
    "\n",
    "```python\n",
    "# Exercise 56\n",
    "```"
   ]
  },
  {
   "cell_type": "code",
   "execution_count": 60,
   "id": "68148461-cbd4-4d54-b852-c8b2fd2c3cdd",
   "metadata": {},
   "outputs": [
    {
     "name": "stdout",
     "output_type": "stream",
     "text": [
      "['apple', 'banana', 'cherry']\n"
     ]
    }
   ],
   "source": [
    "\n",
    "items = [\"apple\", \"\", \"banana\", \"\", \"cherry\"]\n",
    "filtered_items = [item for item in items if item != \"\"]\n",
    "print(filtered_items) "
   ]
  },
  {
   "cell_type": "markdown",
   "id": "ab58bfc8-e732-400b-b2fc-a35dc8f396e4",
   "metadata": {},
   "source": [
    "\n",
    "---\n",
    "\n",
    "### Exercise 57:\n",
    "Write a Python function that takes a dictionary and returns a new dictionary with the keys and values swapped.\n",
    "\n",
    "```python\n",
    "# Exercise 57\n",
    "```"
   ]
  },
  {
   "cell_type": "code",
   "execution_count": 62,
   "id": "71a17d0b-804b-4284-8b3f-cfaaca0e937c",
   "metadata": {},
   "outputs": [
    {
     "name": "stdout",
     "output_type": "stream",
     "text": [
      "{1: 'a', 2: 'b', 3: 'c'}\n"
     ]
    }
   ],
   "source": [
    "\n",
    "def swap_dict(d):\n",
    "    return {v: k for k, v in d.items()}\n",
    "original = {'a': 1, 'b': 2, 'c': 3}\n",
    "swapped = swap_dict(original)\n",
    "print(swapped) "
   ]
  },
  {
   "cell_type": "markdown",
   "id": "0486deba-e96e-430c-9d8e-fc54e3bb63c7",
   "metadata": {},
   "source": [
    "\n",
    "---\n",
    "\n",
    "### Exercise 58:\n",
    "Write a Python function that takes a list of integers and returns a new list with only the even numbers.\n",
    "\n",
    "```python\n",
    "# Exercise 58\n",
    "```"
   ]
  },
  {
   "cell_type": "code",
   "execution_count": 61,
   "id": "19dca19d-29d1-437c-9d09-525bfec046a3",
   "metadata": {},
   "outputs": [
    {
     "name": "stdout",
     "output_type": "stream",
     "text": [
      "[2, 4, 6]\n"
     ]
    }
   ],
   "source": [
    "\n",
    "def get_even_numbers(nums):\n",
    "    return [n for n in nums if n % 2 == 0]\n",
    "\n",
    "print(get_even_numbers([1, 2, 3, 4, 5, 6]))  "
   ]
  },
  {
   "cell_type": "markdown",
   "id": "74d6665b-8b3f-45ba-bada-b102fe1686af",
   "metadata": {},
   "source": [
    "\n",
    "\n",
    "---\n",
    "\n",
    "### Exercise 59:\n",
    "Write a Python function that takes a list of tuples and returns a list of the first elements of each tuple.\n",
    "\n",
    "```python\n",
    "# Exercise 59\n",
    "```"
   ]
  },
  {
   "cell_type": "code",
   "execution_count": 63,
   "id": "05f16d03-86f5-42e9-bcbf-d49420435866",
   "metadata": {},
   "outputs": [
    {
     "name": "stdout",
     "output_type": "stream",
     "text": [
      "[1, 3, 5]\n"
     ]
    }
   ],
   "source": [
    "\n",
    "def first_elements(tuples):\n",
    "    return [t[0] for t in tuples]\n",
    "\n",
    "pairs = [(1, 2), (3, 4), (5, 6)]\n",
    "print(first_elements(pairs)) "
   ]
  },
  {
   "cell_type": "markdown",
   "id": "a1681186-15cc-4f3c-b5c7-a5208aae984b",
   "metadata": {},
   "source": [
    "\n",
    "---\n",
    "\n",
    "### Exercise 60:\n",
    "Write a Python program that removes duplicates from a list without changing the order of elements.\n",
    "\n",
    "```python\n",
    "# Exercise 60\n",
    "```"
   ]
  },
  {
   "cell_type": "code",
   "execution_count": 64,
   "id": "4ca9fdc5-0ea9-49f0-8e88-bb7bf684c8ea",
   "metadata": {},
   "outputs": [
    {
     "name": "stdout",
     "output_type": "stream",
     "text": [
      "[1, 2, 3, 4]\n"
     ]
    }
   ],
   "source": [
    "\n",
    "def remove_duplicates_ordered(lst):\n",
    "    seen = set()\n",
    "    result = []\n",
    "    for item in lst:\n",
    "        if item not in seen:\n",
    "            seen.add(item)\n",
    "            result.append(item)\n",
    "    return result\n",
    "\n",
    "nums = [1, 2, 2, 3, 1, 4]\n",
    "print(remove_duplicates_ordered(nums)) \n"
   ]
  },
  {
   "cell_type": "markdown",
   "id": "fa3c5af6-e0a6-467f-82cb-9781673553ff",
   "metadata": {},
   "source": [
    "\n",
    "---\n",
    "\n",
    "### Exercise 61:\n",
    "Use the `map()` function to convert a list of strings to a list of their lengths.\n",
    "\n",
    "```python\n",
    "# Exercise 61\n",
    "```"
   ]
  },
  {
   "cell_type": "code",
   "execution_count": 65,
   "id": "2b194680-2f42-4869-8c82-0632af96328d",
   "metadata": {},
   "outputs": [
    {
     "name": "stdout",
     "output_type": "stream",
     "text": [
      "[5, 6, 6]\n"
     ]
    }
   ],
   "source": [
    "\n",
    "words = [\"apple\", \"banana\", \"cherry\"]\n",
    "lengths = list(map(len, words))\n",
    "print(lengths)  #"
   ]
  },
  {
   "cell_type": "markdown",
   "id": "78c36bf9-8d21-412f-8f23-3dd798dc030f",
   "metadata": {},
   "source": [
    "\n",
    "\n",
    "---\n",
    "\n",
    "### Exercise 62:\n",
    "Write a Python program that calculates the average of a list of numbers.\n",
    "\n",
    "```python\n",
    "# Exercise 62\n",
    "```"
   ]
  },
  {
   "cell_type": "code",
   "execution_count": 66,
   "id": "6f7412d9-6fc8-46e9-bee7-ac620a812e19",
   "metadata": {},
   "outputs": [
    {
     "name": "stdout",
     "output_type": "stream",
     "text": [
      "20.0\n"
     ]
    }
   ],
   "source": [
    "\n",
    "def average(numbers):\n",
    "    return sum(numbers) / len(numbers) if numbers else 0\n",
    "\n",
    "print(average([10, 20, 30])) \n"
   ]
  },
  {
   "cell_type": "markdown",
   "id": "868a9723-043c-4c49-b32a-792b37376a4c",
   "metadata": {},
   "source": [
    "\n",
    "---\n",
    "\n",
    "### Exercise 63:\n",
    "Write a Python function that generates a list of the first `n` Fibonacci numbers.\n",
    "\n",
    "```python\n",
    "# Exercise 63\n",
    "```"
   ]
  },
  {
   "cell_type": "code",
   "execution_count": 132,
   "id": "7ecca401-de86-4deb-9968-f6ce52171991",
   "metadata": {},
   "outputs": [
    {
     "name": "stdout",
     "output_type": "stream",
     "text": [
      "[0, 1, 1, 2, 3, 5, 8, 13, 21, 34]\n"
     ]
    }
   ],
   "source": [
    "\n",
    "def fibonacci(n):\n",
    "    fib_seq = []\n",
    "    a, b = 0, 1\n",
    "    for _ in range(n):\n",
    "        fib_seq.append(a)\n",
    "        a, b = b, a + b\n",
    "    return fib_seq\n",
    "\n",
    "print(fibonacci(10)) "
   ]
  },
  {
   "cell_type": "markdown",
   "id": "6c9d123f-9d1f-4971-9ae8-dafae38b3395",
   "metadata": {},
   "source": [
    "\n",
    "---\n",
    "\n",
    "### Exercise 64:\n",
    "Write a Python program that counts how many times each element appears in the list `[\"apple\", \"banana\", \"apple\", \"cherry\"]`.\n",
    "\n",
    "```python\n",
    "# Exercise 64\n",
    "```"
   ]
  },
  {
   "cell_type": "code",
   "execution_count": 133,
   "id": "e8e813a6-9f6b-4189-9071-2dd1a57f010e",
   "metadata": {},
   "outputs": [
    {
     "name": "stdout",
     "output_type": "stream",
     "text": [
      "Counter({'apple': 2, 'banana': 1, 'cherry': 1})\n"
     ]
    }
   ],
   "source": [
    "from collections import Counter\n",
    "fruits = [\"apple\", \"banana\", \"apple\", \"cherry\"]\n",
    "counts = Counter(fruits)\n",
    "print(counts)"
   ]
  },
  {
   "cell_type": "markdown",
   "id": "5fdbf781-8414-4851-9d37-fcaf2837e33c",
   "metadata": {},
   "source": [
    "\n",
    "---\n",
    "\n",
    "### Exercise 65:\n",
    "Write a Python program that removes all occurrences of a specific value from a list.\n",
    "\n",
    "```python\n",
    "# Exercise 65\n",
    "```"
   ]
  },
  {
   "cell_type": "code",
   "execution_count": 134,
   "id": "03c83039-7ee0-45e6-bab9-e5ac0a0700b1",
   "metadata": {},
   "outputs": [],
   "source": [
    "# Exercise 65\n",
    "def remove_all_occurrences(lst, value):\n",
    "    return [item for item in lst if item != value]"
   ]
  },
  {
   "cell_type": "markdown",
   "id": "cc856ab5-8394-4078-91af-c50975f35dfa",
   "metadata": {},
   "source": [
    "\n",
    "---\n",
    "\n",
    "### Exercise 66:\n",
    "Write a Python function that takes a list of strings and returns a list of the strings that start with a vowel.\n",
    "\n",
    "```python\n",
    "# Exercise 66\n",
    "```"
   ]
  },
  {
   "cell_type": "code",
   "execution_count": 136,
   "id": "b6174e5b-bd5b-4c18-9515-18c1c078e6dd",
   "metadata": {},
   "outputs": [],
   "source": [
    "def strings_starting_with_vowel(strings):\n",
    "    vowels = {'f', 'a', 't', 'o', 'u'}\n",
    "    result = []\n",
    "    for s in strings:\n",
    "        if s and s[0].lower() in vowels:\n",
    "            result.append(s)\n",
    "    return result"
   ]
  },
  {
   "cell_type": "markdown",
   "id": "6dfc9cac-7c5d-41e7-b518-514af1737557",
   "metadata": {},
   "source": [
    "\n",
    "\n",
    "---\n",
    "\n",
    "### Exercise 67:\n",
    "Write a Python program that finds the intersection of two sets `set1` and `set2`.\n",
    "\n",
    "```python\n",
    "# Exercise 67\n",
    "```"
   ]
  },
  {
   "cell_type": "code",
   "execution_count": 68,
   "id": "cc8a9942-839a-4e6e-8c3d-970811429941",
   "metadata": {},
   "outputs": [
    {
     "name": "stdout",
     "output_type": "stream",
     "text": [
      "{3, 4}\n"
     ]
    }
   ],
   "source": [
    "\n",
    "set1 = {1, 2, 3, 4}\n",
    "set2 = {3, 4, 5, 6}\n",
    "intersection = set1 & set2 \n",
    "print(intersection) "
   ]
  },
  {
   "cell_type": "markdown",
   "id": "ad8e1320-4bb7-4124-9b66-25008305e618",
   "metadata": {},
   "source": [
    "\n",
    "---\n",
    "\n",
    "### Exercise 68:\n",
    "Write a Python function that flattens a nested list.\n",
    "\n",
    "```python\n",
    "# Exercise 68\n",
    "```"
   ]
  },
  {
   "cell_type": "code",
   "execution_count": 69,
   "id": "979d9ade-de3a-4bd8-b30e-56b935083d70",
   "metadata": {},
   "outputs": [
    {
     "name": "stdout",
     "output_type": "stream",
     "text": [
      "[1, 2, 3, 4, 5]\n"
     ]
    }
   ],
   "source": [
    "\n",
    "def flatten(nested_list):\n",
    "    return [item for sublist in nested_list for item in sublist]\n",
    "nested = [[1, 2], [3, 4], [5]]\n",
    "print(flatten(nested)) "
   ]
  },
  {
   "cell_type": "markdown",
   "id": "1d71d03a-6545-432b-bf68-f7ca627531d3",
   "metadata": {},
   "source": [
    "\n",
    "---\n",
    "\n",
    "### Exercise 69:\n",
    "Write a Python program that checks if all the elements in a list are unique.\n",
    "\n",
    "```python\n",
    "# Exercise 69\n",
    "```"
   ]
  },
  {
   "cell_type": "code",
   "execution_count": 70,
   "id": "b4c7dba1-ded2-4ec6-8e09-7e2e6a159679",
   "metadata": {},
   "outputs": [
    {
     "name": "stdout",
     "output_type": "stream",
     "text": [
      "True\n",
      "False\n"
     ]
    }
   ],
   "source": [
    "\n",
    "def all_unique(lst):\n",
    "    return len(lst) == len(set(lst))\n",
    "\n",
    "print(all_unique([1, 2, 3]))     \n",
    "print(all_unique([1, 2, 2, 3]))  \n"
   ]
  },
  {
   "cell_type": "markdown",
   "id": "1ad324f9-53ed-443f-ad05-08de8f1ae223",
   "metadata": {},
   "source": [
    "\n",
    "---\n",
    "\n",
    "### Exercise 70:\n",
    "Use the `reduce()` function from the `functools` module to multiply all elements in a list.\n",
    "\n",
    "```python\n",
    "# Exercise 70\n",
    "```"
   ]
  },
  {
   "cell_type": "code",
   "execution_count": 71,
   "id": "59398176-0af9-49db-a809-64bc2b96ad6a",
   "metadata": {},
   "outputs": [
    {
     "name": "stdout",
     "output_type": "stream",
     "text": [
      "24\n"
     ]
    }
   ],
   "source": [
    "\n",
    "from functools import reduce\n",
    "import operator\n",
    "\n",
    "def multiply_list(lst):\n",
    "    return reduce(operator.mul, lst, 1)\n",
    "\n",
    "print(multiply_list([1, 2, 3, 4])) "
   ]
  },
  {
   "cell_type": "markdown",
   "id": "115027b9-bc6f-495b-bee5-8151eec69d78",
   "metadata": {},
   "source": [
    "\n",
    "---\n",
    "\n",
    "### Exercise 71:\n",
    "Write a Python function that takes a list of strings and returns a dictionary where keys are strings and values are their lengths.\n",
    "\n",
    "```python\n",
    "# Exercise 71\n",
    "```"
   ]
  },
  {
   "cell_type": "code",
   "execution_count": 72,
   "id": "38f5fb6a-ccf7-4092-a0ea-657002e06e25",
   "metadata": {},
   "outputs": [
    {
     "name": "stdout",
     "output_type": "stream",
     "text": [
      "{'apple': 5, 'banana': 6, 'kiwi': 4}\n"
     ]
    }
   ],
   "source": [
    "\n",
    "def strings_to_length_dict(strings):\n",
    "    return {s: len(s) for s in strings}\n",
    "words = [\"apple\", \"banana\", \"kiwi\"]\n",
    "print(strings_to_length_dict(words)) "
   ]
  },
  {
   "cell_type": "markdown",
   "id": "44b8ddc9-2cb1-48c4-b63a-3c3d3365a477",
   "metadata": {},
   "source": [
    "\n",
    "---\n",
    "\n",
    "### Exercise 72:\n",
    "Write a Python program that counts the number of vowels in a string.\n",
    "\n",
    "```python\n",
    "# Exercise 72\n",
    "```"
   ]
  },
  {
   "cell_type": "code",
   "execution_count": 138,
   "id": "dabaa5d2-a2fc-4903-b323-ac97a5334457",
   "metadata": {},
   "outputs": [],
   "source": [
    "def count_fatou_letters(s):\n",
    "    letters = 'fatou'\n",
    "    s = s.lower()\n",
    "    return sum(char in letters for char in s)"
   ]
  },
  {
   "cell_type": "markdown",
   "id": "431e20d5-057d-4d7b-a8ea-9965586e087c",
   "metadata": {},
   "source": [
    "\n",
    "---\n",
    "\n",
    "### Exercise 73:\n",
    "Create a list of tuples where each tuple contains a number from 1 to 5 and its factorial.\n",
    "\n",
    "```python\n",
    "# Exercise 73\n",
    "```"
   ]
  },
  {
   "cell_type": "code",
   "execution_count": 73,
   "id": "a6af756e-312c-43ad-9ea1-6c22a7f9f2d6",
   "metadata": {},
   "outputs": [
    {
     "name": "stdout",
     "output_type": "stream",
     "text": [
      "[(1, 1), (2, 2), (3, 6), (4, 24), (5, 120)]\n"
     ]
    }
   ],
   "source": [
    "\n",
    "import math\n",
    "\n",
    "factorial_tuples = [(x, math.factorial(x)) for x in range(1, 6)]\n",
    "print(factorial_tuples)\n"
   ]
  },
  {
   "cell_type": "markdown",
   "id": "68da0360-cf43-412b-9b48-483aee6a324b",
   "metadata": {},
   "source": [
    "\n",
    "---\n",
    "\n",
    "### Exercise 74:\n",
    "Write a Python program that converts a list of dictionaries into a single dictionary by merging them.\n",
    "\n",
    "```python\n",
    "# Exercise 74\n",
    "```"
   ]
  },
  {
   "cell_type": "code",
   "execution_count": 74,
   "id": "0ed54e31-ffb2-4a71-8097-e07512964f66",
   "metadata": {},
   "outputs": [
    {
     "name": "stdout",
     "output_type": "stream",
     "text": [
      "{'a': 1, 'b': 2, 'c': 3}\n"
     ]
    }
   ],
   "source": [
    "\n",
    "def merge_dicts(dict_list):\n",
    "    merged = {}\n",
    "    for d in dict_list:\n",
    "        merged.update(d)\n",
    "    return merged\n",
    "dicts = [{'a': 1}, {'b': 2}, {'c': 3}]\n",
    "print(merge_dicts(dicts))  \n"
   ]
  },
  {
   "cell_type": "markdown",
   "id": "3dd94a03-3f5d-4154-85f1-3dff8d756ae9",
   "metadata": {},
   "source": [
    "\n",
    "---\n",
    "\n",
    "### Exercise 75:\n",
    "Write a Python function that checks if a set is a subset of another set.\n",
    "\n",
    "```python\n",
    "# Exercise 75\n",
    "```"
   ]
  },
  {
   "cell_type": "markdown",
   "id": "9bc5f979-8806-4a5c-be67-1eed57947b73",
   "metadata": {},
   "source": [
    "\n",
    "def is_subset(sub, main):\n",
    "    return sub.issubset(main)\n",
    "a = {1, 2}\n",
    "b = {1, 2, 3}\n",
    "print(is_subset(a, b)) "
   ]
  },
  {
   "cell_type": "markdown",
   "id": "7b0d579d-771e-4c3f-89e1-7d5cdccb0bd0",
   "metadata": {},
   "source": [
    "\n",
    "\n",
    "---\n",
    "\n",
    "### Exercise 76:\n",
    "Write a Python program that sorts a list of tuples based on the second element in each tuple.\n",
    "\n",
    "```python\n",
    "# Exercise 76"
   ]
  },
  {
   "cell_type": "code",
   "execution_count": 76,
   "id": "b3efd2e0-89a5-45c5-994f-295611d520ee",
   "metadata": {},
   "outputs": [
    {
     "name": "stdout",
     "output_type": "stream",
     "text": [
      "[(2, 1), (4, 2), (1, 3)]\n"
     ]
    }
   ],
   "source": [
    "\n",
    "def sort_by_second(tuples):\n",
    "    return sorted(tuples, key=lambda x: x[1])\n",
    "pairs = [(1, 3), (2, 1), (4, 2)]\n",
    "print(sort_by_second(pairs))  "
   ]
  },
  {
   "cell_type": "markdown",
   "id": "5dc60e81-9531-45a5-9e77-483beff7eb06",
   "metadata": {},
   "source": [
    "\n",
    "---\n",
    "\n",
    "### Exercise 77:\n",
    "Write a Python function that takes a list of integers and returns a new list with only the positive integers.\n",
    "\n",
    "```python\n",
    "# Exercise 77\n",
    "```"
   ]
  },
  {
   "cell_type": "code",
   "execution_count": 140,
   "id": "7af7800f-5e92-47f9-aff2-76a64302dd19",
   "metadata": {},
   "outputs": [],
   "source": [
    "\n",
    "def filter_positive(nums):\n",
    "    return [n for n in nums if n > 0]"
   ]
  },
  {
   "cell_type": "markdown",
   "id": "78616948-d722-46c0-8dd9-d4cbc4dcf735",
   "metadata": {},
   "source": [
    "\n",
    "---\n",
    "\n",
    "### Exercise 78:\n",
    "Write a Python function that takes two sets and returns their union.\n",
    "\n",
    "```python\n",
    "# Exercise 78\n",
    "```"
   ]
  },
  {
   "cell_type": "code",
   "execution_count": 78,
   "id": "070aca19-3e48-4403-a80e-bceed57fc63a",
   "metadata": {},
   "outputs": [
    {
     "name": "stdout",
     "output_type": "stream",
     "text": [
      "{1, 2, 3}\n"
     ]
    }
   ],
   "source": [
    "\n",
    "def union_sets(set1, set2):\n",
    "    return set1 | set2 \n",
    "    #example\n",
    "a = {1, 2}\n",
    "b = {2, 3}\n",
    "print(union_sets(a, b))  "
   ]
  },
  {
   "cell_type": "markdown",
   "id": "7f958526-f4a6-4f32-a5de-f4e892bca491",
   "metadata": {},
   "source": [
    "\n",
    "---\n",
    "\n",
    "### Exercise 79:\n",
    "Write a Python function that takes a list of numbers and returns the product of all the numbers.\n",
    "\n",
    "```python\n",
    "# Exercise 79\n",
    "```"
   ]
  },
  {
   "cell_type": "code",
   "execution_count": 79,
   "id": "b156b1d2-78ea-4f01-8332-310911c81996",
   "metadata": {},
   "outputs": [
    {
     "name": "stdout",
     "output_type": "stream",
     "text": [
      "24\n"
     ]
    }
   ],
   "source": [
    "\n",
    "from functools import reduce\n",
    "import operator\n",
    "def product_of_list(nums):\n",
    "    return reduce(operator.mul, nums, 1)\n",
    "print(product_of_list([1, 2, 3, 4])) \n"
   ]
  },
  {
   "cell_type": "markdown",
   "id": "22dee130-da9e-4d5c-a8be-ab6b18595017",
   "metadata": {},
   "source": [
    "---\n",
    "\n",
    "### Exercise 80:\n",
    "Write a Python program that converts a list of characters into a string.\n",
    "\n",
    "```python\n",
    "# Exercise 80\n",
    "```\n"
   ]
  },
  {
   "cell_type": "code",
   "execution_count": 80,
   "id": "41498c35-0f44-49cc-a939-047c0fd66816",
   "metadata": {},
   "outputs": [
    {
     "name": "stdout",
     "output_type": "stream",
     "text": [
      "Hello\n"
     ]
    }
   ],
   "source": [
    "\n",
    "chars = ['H', 'e', 'l', 'l', 'o']\n",
    "string = ''.join(chars)\n",
    "print(string)  "
   ]
  },
  {
   "cell_type": "markdown",
   "id": "cdf3a159-70d8-4ef8-b2df-f18807c6fa96",
   "metadata": {},
   "source": [
    "\n",
    "---\n",
    "\n",
    "### Exercise 81:\n",
    "Write a Python program that finds the second largest number in a list of integers.\n",
    "\n",
    "```python\n",
    "# Exercise 81\n",
    "```"
   ]
  },
  {
   "cell_type": "code",
   "execution_count": 141,
   "id": "79900d7f-69f4-4d59-88a9-2f2712b7c245",
   "metadata": {},
   "outputs": [
    {
     "name": "stdout",
     "output_type": "stream",
     "text": [
      "30\n"
     ]
    }
   ],
   "source": [
    "# Exercise 81\n",
    "def second_largest(numbers):\n",
    "    unique_nums = list(set(numbers))\n",
    "    if len(unique_nums) < 2:\n",
    "        return None \n",
    "    unique_nums.sort(reverse=True)\n",
    "    return unique_nums[1]\n",
    "print(second_largest([10, 20, 30, 40, 30])) "
   ]
  },
  {
   "cell_type": "markdown",
   "id": "f236585a-dc45-4ecd-8d71-37cbc9ff15c0",
   "metadata": {},
   "source": [
    "\n",
    "---\n",
    "\n",
    "### Exercise 82:\n",
    "Write a Python function that takes a dictionary and returns a list of its keys in sorted order.\n",
    "\n",
    "```python\n",
    "# Exercise 82\n",
    "```"
   ]
  },
  {
   "cell_type": "code",
   "execution_count": 142,
   "id": "02a970d6-ad14-43d6-8b7e-50cc3238447b",
   "metadata": {},
   "outputs": [
    {
     "name": "stdout",
     "output_type": "stream",
     "text": [
      "['a', 'b', 'c']\n"
     ]
    }
   ],
   "source": [
    "\n",
    "def sorted_keys(d):\n",
    "    return sorted(d.keys())\n",
    "my_dict = {'b': 2, 'a': 1, 'c': 3}\n",
    "print(sorted_keys(my_dict)) "
   ]
  },
  {
   "cell_type": "markdown",
   "id": "833db87f-ef23-4d60-a29b-83f9465be7c3",
   "metadata": {},
   "source": [
    "\n",
    "---\n",
    "\n",
    "### Exercise 83:\n",
    "Write a Python program that finds the most common element in a list.\n",
    "\n",
    "```python\n",
    "# Exercise 83\n",
    "```"
   ]
  },
  {
   "cell_type": "code",
   "execution_count": 83,
   "id": "74d7ce5a-0054-427c-8287-625c81b2a385",
   "metadata": {},
   "outputs": [
    {
     "name": "stdout",
     "output_type": "stream",
     "text": [
      "3\n"
     ]
    }
   ],
   "source": [
    "from collections import Counter\n",
    "def most_common(lst):\n",
    "    return Counter(lst).most_common(1)[0][0]\n",
    "print(most_common([1, 2, 2, 3, 3, 3, 4]))"
   ]
  },
  {
   "cell_type": "markdown",
   "id": "55ede8b1-96ab-46e5-be2e-32bc69b284d8",
   "metadata": {},
   "source": [
    "---\n",
    "\n",
    "### Exercise 84:\n",
    "Write a Python function that takes a list of tuples and returns a list of the tuples sorted by the first element.\n",
    "\n",
    "```python\n",
    "# Exercise 84\n",
    "```"
   ]
  },
  {
   "cell_type": "code",
   "execution_count": 82,
   "id": "b2e1ea09-d6b4-46a4-8bd1-8ffc5c8baf80",
   "metadata": {},
   "outputs": [
    {
     "name": "stdout",
     "output_type": "stream",
     "text": [
      "[(1, 'a'), (2, 'b'), (3, 'c')]\n"
     ]
    }
   ],
   "source": [
    "\n",
    "def sort_by_first(tuples):\n",
    "    return sorted(tuples, key=lambda x: x[0])\n",
    "data = [(3, 'c'), (1, 'a'), (2, 'b')]\n",
    "print(sort_by_first(data)) "
   ]
  },
  {
   "cell_type": "markdown",
   "id": "01f956d9-8be6-479c-9a25-541847439e42",
   "metadata": {},
   "source": [
    "\n",
    "---\n",
    "\n",
    "### Exercise 85:\n",
    "Write a Python program that removes duplicates from a list of dictionaries.\n",
    "\n",
    "```python\n",
    "# Exercise 85\n",
    "```"
   ]
  },
  {
   "cell_type": "code",
   "execution_count": 84,
   "id": "c3a8e7de-8f6e-4295-92f6-3fed97b84239",
   "metadata": {},
   "outputs": [
    {
     "name": "stdout",
     "output_type": "stream",
     "text": [
      "[{'a': 1}, {'b': 2}]\n"
     ]
    }
   ],
   "source": [
    "\n",
    "def remove_duplicate_dicts(dicts):\n",
    "    seen = set()\n",
    "    result = []\n",
    "    for d in dicts:\n",
    "        t = tuple(sorted(d.items()))\n",
    "        if t not in seen:\n",
    "            seen.add(t)\n",
    "            result.append(d)\n",
    "    return result\n",
    "\n",
    "dict_list = [{'a': 1}, {'b': 2}, {'a': 1}]\n",
    "print(remove_duplicate_dicts(dict_list))  "
   ]
  },
  {
   "cell_type": "markdown",
   "id": "992e4672-d1fb-4f17-a675-4db9909288fb",
   "metadata": {},
   "source": [
    "\n",
    "\n",
    "---\n",
    "\n",
    "### Exercise 86:\n",
    "Write a Python function that takes a list of numbers and returns the minimum and maximum numbers in the list.\n",
    "\n",
    "```python\n",
    "# Exercise 86\n",
    "```"
   ]
  },
  {
   "cell_type": "code",
   "execution_count": 81,
   "id": "c7f76df8-335f-43ad-ae8d-47da854b6cd5",
   "metadata": {},
   "outputs": [
    {
     "name": "stdout",
     "output_type": "stream",
     "text": [
      "3\n"
     ]
    }
   ],
   "source": []
  },
  {
   "cell_type": "code",
   "execution_count": 85,
   "id": "b76670bd-7e72-4b78-b54e-fe1372cf9e6f",
   "metadata": {},
   "outputs": [
    {
     "name": "stdout",
     "output_type": "stream",
     "text": [
      "(1, 9)\n"
     ]
    }
   ],
   "source": [
    "\n",
    "def min_max(nums):\n",
    "    if not nums:\n",
    "        return None, None\n",
    "    return min(nums), max(nums)\n",
    "print(min_max([3, 1, 4, 1, 5, 9])) "
   ]
  },
  {
   "cell_type": "markdown",
   "id": "8a9811e4-6b58-48af-b159-90d54fb10a9b",
   "metadata": {},
   "source": [
    "\n",
    "---\n",
    "\n",
    "### Exercise 87:\n",
    "Write a Python program that creates a list of tuples from two lists.\n",
    "\n",
    "```python\n",
    "# Exercise 87\n",
    "```"
   ]
  },
  {
   "cell_type": "code",
   "execution_count": 86,
   "id": "20de0559-5928-4244-9deb-3b1f3cd3b737",
   "metadata": {},
   "outputs": [
    {
     "name": "stdout",
     "output_type": "stream",
     "text": [
      "[(1, 'a'), (2, 'b'), (3, 'c')]\n"
     ]
    }
   ],
   "source": [
    "\n",
    "list1 = [1, 2, 3]\n",
    "list2 = ['a', 'b', 'c']\n",
    "result = list(zip(list1, list2))\n",
    "print(result) "
   ]
  },
  {
   "cell_type": "markdown",
   "id": "f150be70-86af-4ff2-a69d-2f8f6a4a0d58",
   "metadata": {},
   "source": [
    "---\n",
    "\n",
    "### Exercise 88:\n",
    "Write a Python function that takes a list of strings and returns a list of the strings in reverse order.\n",
    "\n",
    "```python\n",
    "# Exercise 88\n",
    "```"
   ]
  },
  {
   "cell_type": "code",
   "execution_count": 143,
   "id": "4206ec3c-dccd-4a46-8826-87e00bb6f601",
   "metadata": {},
   "outputs": [
    {
     "name": "stdout",
     "output_type": "stream",
     "text": [
      "['cherry', 'banana', 'apple']\n"
     ]
    }
   ],
   "source": [
    "\n",
    "def reverse_strings(strings):\n",
    "    return strings[::-1]\n",
    "print(reverse_strings(['apple', 'banana', 'cherry']))  \n"
   ]
  },
  {
   "cell_type": "markdown",
   "id": "ea6bd30d-8e79-4e1a-a264-5332ddb5f1ff",
   "metadata": {},
   "source": [
    "\n",
    "\n",
    "---\n",
    "\n",
    "### Exercise 89:\n",
    "Write a Python function that takes a list of integers and returns the sum of all odd numbers.\n",
    "\n",
    "```python\n",
    "# Exercise 89\n",
    "```"
   ]
  },
  {
   "cell_type": "code",
   "execution_count": 144,
   "id": "ff4f7ac3-d6a0-4f69-b6a3-1c2872670458",
   "metadata": {},
   "outputs": [
    {
     "name": "stdout",
     "output_type": "stream",
     "text": [
      "9\n"
     ]
    }
   ],
   "source": [
    "\n",
    "def sum_odd(numbers):\n",
    "    return sum(n for n in numbers if n % 2 != 0)\n",
    "print(sum_odd([1, 2, 3, 4, 5])) \n"
   ]
  },
  {
   "cell_type": "markdown",
   "id": "b5329dbd-2696-49bd-9e91-e6130d9712b0",
   "metadata": {},
   "source": [
    "\n",
    "\n",
    "---\n",
    "\n",
    "### Exercise 90:\n",
    "Write a Python program that checks if a string is a palindrome.\n",
    "\n",
    "```python\n",
    "# Exercise 90\n",
    "```\n"
   ]
  },
  {
   "cell_type": "code",
   "execution_count": 87,
   "id": "e74a20d4-58a2-457d-aba3-7b9686324252",
   "metadata": {},
   "outputs": [
    {
     "name": "stdout",
     "output_type": "stream",
     "text": [
      "True\n",
      "False\n"
     ]
    }
   ],
   "source": [
    "\n",
    "def is_palindrome(s):\n",
    "    s = s.lower()\n",
    "    return s == s[::-1]\n",
    "\n",
    "print(is_palindrome(\"Racecar\"))  \n",
    "print(is_palindrome(\"Hello\"))    \n"
   ]
  },
  {
   "cell_type": "markdown",
   "id": "b0bef27b-14c7-4204-bdec-310a5db13cda",
   "metadata": {},
   "source": [
    "\n",
    "---\n",
    "\n",
    "### Exercise 91:\n",
    "Write a Python program that finds the median of a list of numbers.\n",
    "\n",
    "```python\n",
    "# Exercise 91\n",
    "```"
   ]
  },
  {
   "cell_type": "code",
   "execution_count": 88,
   "id": "7758d06f-7ce1-4bef-8262-57379c6fd506",
   "metadata": {},
   "outputs": [
    {
     "name": "stdout",
     "output_type": "stream",
     "text": [
      "2.5\n",
      "3\n"
     ]
    }
   ],
   "source": [
    "\n",
    "def median(nums):\n",
    "    sorted_nums = sorted(nums)\n",
    "    n = len(nums)\n",
    "    mid = n // 2\n",
    "    if n % 2 == 0:\n",
    "        return (sorted_nums[mid - 1] + sorted_nums[mid]) / 2\n",
    "    else:\n",
    "        return sorted_nums[mid]\n",
    "\n",
    "print(median([3, 1, 4, 2]))  \n",
    "print(median([3, 1, 4, 2, 5])) \n"
   ]
  },
  {
   "cell_type": "markdown",
   "id": "7c12bc83-de2d-42bf-a21c-e75375c4cd1a",
   "metadata": {},
   "source": [
    "\n",
    "---\n",
    "\n",
    "### Exercise 92:\n",
    "Write a Python function that takes a list of dictionaries and returns a dictionary with the total value for each key.\n",
    "\n",
    "```python\n",
    "# Exercise 92\n",
    "```"
   ]
  },
  {
   "cell_type": "markdown",
   "id": "eefd134f-9b94-432a-9d1e-f9f3caeb7ed8",
   "metadata": {},
   "source": [
    "\n",
    "from collections import defaultdict\n",
    "\n",
    "def total_values(dict_list):\n",
    "    totals = defaultdict(int)\n",
    "    for d in dict_list:\n",
    "        for k, v in d.items():\n",
    "            totals[k] += v\n",
    "    return dict(totals)\n",
    "dicts = [{'a': 1, 'b': 2}, {'a': 3, 'b': 4, 'c': 5}]\n",
    "print(total_values(dicts)) "
   ]
  },
  {
   "cell_type": "markdown",
   "id": "92752b8e-4eb8-4024-b402-612a9e849ce7",
   "metadata": {},
   "source": [
    "---\n",
    "\n",
    "### Exercise 93:\n",
    "Write a Python program that calculates the mode of a list of numbers.\n",
    "\n",
    "```python\n",
    "# Exercise 93\n",
    "```"
   ]
  },
  {
   "cell_type": "markdown",
   "id": "9d4eb9c8-37a5-42cc-a3ad-61d96bdb1ce8",
   "metadata": {},
   "source": []
  },
  {
   "cell_type": "markdown",
   "id": "00cfa9f7-4e59-4c56-8998-ae568524a806",
   "metadata": {},
   "source": [
    "---\n",
    "\n",
    "### Exercise 94:\n",
    "Write a Python function that takes a list of numbers and returns the sum of the squares of all the numbers.\n",
    "\n",
    "```python\n",
    "# Exercise 94\n",
    "```\n"
   ]
  },
  {
   "cell_type": "code",
   "execution_count": 148,
   "id": "e6f09c1c-741e-4d6b-a03b-c0e1210dd8b6",
   "metadata": {},
   "outputs": [
    {
     "name": "stdout",
     "output_type": "stream",
     "text": [
      "14\n"
     ]
    }
   ],
   "source": [
    "\n",
    "def sum_of_squares(nums):\n",
    "    return sum(n ** 2 for n in nums)\n",
    "print(sum_of_squares([1, 2, 3]))  \n"
   ]
  },
  {
   "cell_type": "markdown",
   "id": "5ba8120f-1973-445e-afb0-dacb906c8f1f",
   "metadata": {},
   "source": [
    "\n",
    "---\n",
    "\n",
    "### Exercise 95:\n",
    "Write a Python program that creates a list of tuples, where each tuple contains a number and its cube for numbers from 1 to 5.\n",
    "\n",
    "```python\n",
    "# Exercise 95\n",
    "```"
   ]
  },
  {
   "cell_type": "code",
   "execution_count": 89,
   "id": "45ffa01b-126a-4ab2-9986-5a36f6620506",
   "metadata": {},
   "outputs": [
    {
     "name": "stdout",
     "output_type": "stream",
     "text": [
      "[(1, 1), (2, 8), (3, 27), (4, 64), (5, 125)]\n"
     ]
    }
   ],
   "source": [
    "\n",
    "cubes = [(x, x**3) for x in range(1, 6)]\n",
    "print(cubes)\n"
   ]
  },
  {
   "cell_type": "markdown",
   "id": "c1dd1e71-83a4-4fe5-87c6-f82cfffa4529",
   "metadata": {},
   "source": [
    "\n",
    "---\n",
    "\n",
    "### Exercise 96:\n",
    "Write a Python function that returns a list of all prime numbers up to `n`.\n",
    "\n",
    "```python\n",
    "# Exercise 96\n",
    "```"
   ]
  },
  {
   "cell_type": "code",
   "execution_count": 90,
   "id": "0c3e9288-f30d-4424-b88b-ab3773e70f78",
   "metadata": {},
   "outputs": [
    {
     "name": "stdout",
     "output_type": "stream",
     "text": [
      "[2, 3, 5, 7, 11, 13, 17, 19]\n"
     ]
    }
   ],
   "source": [
    "\n",
    "def primes_up_to(n):\n",
    "    primes = []\n",
    "    for num in range(2, n + 1):\n",
    "        is_prime = True\n",
    "        for i in range(2, int(num**0.5) + 1):\n",
    "            if num % i == 0:\n",
    "                is_prime = False\n",
    "                break\n",
    "        if is_prime:\n",
    "            primes.append(num)\n",
    "    return primes\n",
    "print(primes_up_to(20)) "
   ]
  },
  {
   "cell_type": "markdown",
   "id": "2985f103-6507-40e8-b9ae-323dcec25a72",
   "metadata": {},
   "source": [
    "\n",
    "---\n",
    "\n",
    "### Exercise 97:\n",
    "Write a Python program that finds the common keys between two dictionaries.\n",
    "\n",
    "```python\n",
    "# Exercise 97\n",
    "```"
   ]
  },
  {
   "cell_type": "code",
   "execution_count": 91,
   "id": "6b3fb981-f5ae-45c2-8c41-8dce1c857051",
   "metadata": {},
   "outputs": [
    {
     "name": "stdout",
     "output_type": "stream",
     "text": [
      "{'c', 'b'}\n"
     ]
    }
   ],
   "source": [
    "\n",
    "def common_keys(dict1, dict2):\n",
    "    return dict1.keys() & dict2.keys()\n",
    "\n",
    "d1 = {'a': 1, 'b': 2, 'c': 3}\n",
    "d2 = {'b': 4, 'c': 5, 'd': 6}\n",
    "print(common_keys(d1, d2))  "
   ]
  },
  {
   "cell_type": "markdown",
   "id": "1607cd4d-7f09-4836-8f2d-5c945e8ffcec",
   "metadata": {},
   "source": [
    "\n",
    "---\n",
    "\n",
    "### Exercise 98:\n",
    "Write a Python function that takes a list of strings and returns a list of the strings that contain more than 5 characters.\n",
    "\n",
    "```python\n",
    "# Exercise 98\n",
    "```"
   ]
  },
  {
   "cell_type": "code",
   "execution_count": 92,
   "id": "f8386b28-da06-4f1e-a3a0-0af8fbf25016",
   "metadata": {},
   "outputs": [
    {
     "name": "stdout",
     "output_type": "stream",
     "text": [
      "['banana', 'cherry']\n"
     ]
    }
   ],
   "source": [
    "\n",
    "def long_strings(strings):\n",
    "    return [s for s in strings if len(s) > 5]\n",
    "print(long_strings(['apple', 'banana', 'cherry', 'date'])) "
   ]
  },
  {
   "cell_type": "markdown",
   "id": "0594549c-494a-43cb-9f93-1b23593478b0",
   "metadata": {},
   "source": [
    "---\n",
    "\n",
    "### Exercise 99:\n",
    "Write a Python program that converts a list of strings into a list of tuples, where each tuple contains the string and its length.\n",
    "\n",
    "```python\n",
    "# Exercise 99\n",
    "```"
   ]
  },
  {
   "cell_type": "code",
   "execution_count": 93,
   "id": "ac472367-1c55-48bb-a01e-5c1ec998b002",
   "metadata": {},
   "outputs": [
    {
     "name": "stdout",
     "output_type": "stream",
     "text": [
      "[('apple', 5), ('banana', 6), ('cherry', 6)]\n"
     ]
    }
   ],
   "source": [
    "\n",
    "def strings_and_lengths(strings):\n",
    "    return [(s, len(s)) for s in strings]\n",
    "\n",
    "print(strings_and_lengths(['apple', 'banana', 'cherry']))\n",
    "\n"
   ]
  },
  {
   "cell_type": "markdown",
   "id": "c99b71a1-57ac-4bbe-bef5-d584fb44a127",
   "metadata": {
    "id": "bea983a3"
   },
   "source": [
    "\n",
    "\n",
    "\n",
    "---\n",
    "\n",
    "### Exercise 100:\n",
    "Write a Python function that takes a list of dictionaries and returns a new dictionary by summing the values of each key across all dictionaries.\n",
    "\n",
    "```python\n",
    "# Exercise 100\n",
    "```\n",
    "\n",
    "---"
   ]
  },
  {
   "cell_type": "code",
   "execution_count": 94,
   "id": "0001474a-0435-4f9b-bcb9-54ffc046698e",
   "metadata": {},
   "outputs": [
    {
     "name": "stdout",
     "output_type": "stream",
     "text": [
      "{'a': 4, 'b': 6, 'c': 5}\n"
     ]
    }
   ],
   "source": [
    "\n",
    "from collections import defaultdict\n",
    "\n",
    "def sum_dict_values(dicts):\n",
    "    totals = defaultdict(int)\n",
    "    for d in dicts:\n",
    "        for k, v in d.items():\n",
    "            totals[k] += v\n",
    "    return dict(totals)\n",
    "dict_list = [{'a': 1, 'b': 2}, {'a': 3, 'b': 4, 'c': 5}]\n",
    "print(sum_dict_values(dict_list)) \n"
   ]
  },
  {
   "cell_type": "code",
   "execution_count": null,
   "id": "ecec376c-f1bb-4512-98dc-103282a02ceb",
   "metadata": {},
   "outputs": [],
   "source": []
  }
 ],
 "metadata": {
  "colab": {
   "provenance": []
  },
  "kernelspec": {
   "display_name": "Python 3 (ipykernel)",
   "language": "python",
   "name": "python3"
  },
  "language_info": {
   "codemirror_mode": {
    "name": "ipython",
    "version": 3
   },
   "file_extension": ".py",
   "mimetype": "text/x-python",
   "name": "python",
   "nbconvert_exporter": "python",
   "pygments_lexer": "ipython3",
   "version": "3.12.5"
  }
 },
 "nbformat": 4,
 "nbformat_minor": 5
}
