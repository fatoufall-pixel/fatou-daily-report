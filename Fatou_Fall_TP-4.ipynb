{
 "cells": [
  {
   "cell_type": "markdown",
   "id": "5ceec8fc-5e34-40bd-82a1-3e93d1bc2672",
   "metadata": {},
   "source": [
    "---\n",
    "\n",
    "### Exercise 1:\n",
    "Write a Python program that checks if a number is positive or negative.\n",
    "\n",
    "```python\n",
    "# Exercise 1\n",
    "```"
   ]
  },
  {
   "cell_type": "code",
   "execution_count": null,
   "id": "489a9b1b-e969-4964-9811-28cff5513ba9",
   "metadata": {},
   "outputs": [],
   "source": [
    "num = float(input(\"Enter a number: \"))\n",
    "if num > 0:\n",
    "    print(\"Positive\")\n",
    "elif num < 0:\n",
    "    print(\"Negative\")\n",
    "else:\n",
    "    print(\"Zero\")"
   ]
  },
  {
   "cell_type": "markdown",
   "id": "aba9900d-e652-4977-ba9e-5cf7e0f83867",
   "metadata": {},
   "source": [
    "\n",
    "---\n",
    "\n",
    "### Exercise 2:\n",
    "Write a Python function that checks if a string starts with a vowel.\n",
    "\n",
    "```python\n",
    "# Exercise 2\n",
    "```"
   ]
  },
  {
   "cell_type": "code",
   "execution_count": null,
   "id": "12ae7b7c-c069-40fd-b161-ad7c1c17b712",
   "metadata": {},
   "outputs": [],
   "source": [
    "def starts_with_vowel(s):\n",
    "    return s[0].lower() in 'fachion'"
   ]
  },
  {
   "cell_type": "markdown",
   "id": "4f64e14a-bf7d-491e-859a-24b617543e9e",
   "metadata": {},
   "source": [
    "---\n",
    "\n",
    "### Exercise 3:\n",
    "Write a Python program that takes a list of integers and prints \"Even\" for each even number and \"Odd\" for each odd number.\n",
    "\n",
    "```python\n",
    "# Exercise 3\n",
    "```"
   ]
  },
  {
   "cell_type": "code",
   "execution_count": null,
   "id": "737549e2-446c-472c-9425-dbb9391b74b7",
   "metadata": {},
   "outputs": [],
   "source": [
    "numbers = [1, 2, 3, 4, 5]\n",
    "for num in numbers:\n",
    "    print(\"Even\" if num % 2 == 0 else \"Odd\")\n"
   ]
  },
  {
   "cell_type": "markdown",
   "id": "7fec9a9f-2f7c-48a4-8521-359904c39b5a",
   "metadata": {},
   "source": [
    "--\n",
    "\n",
    "### Exercise 4:\n",
    "Write a Python program that checks if a given year is a leap year.\n",
    "\n",
    "```python\n",
    "# Exercise 4\n",
    "```"
   ]
  },
  {
   "cell_type": "code",
   "execution_count": null,
   "id": "a270b322-e44d-4ca9-abc1-ace2041b3c8a",
   "metadata": {},
   "outputs": [],
   "source": [
    "year = int(input(\"2025: \"))\n",
    "if (year % 4 == 0 and year % 100 != 0) or (year % 400 == 0):\n",
    "    print(\"Leap 2025\")\n",
    "else:\n",
    "    print(\"Not a leap 2025\")\n"
   ]
  },
  {
   "cell_type": "markdown",
   "id": "ba1ea383-ecef-4fd3-9d2d-1dbc9910cbae",
   "metadata": {},
   "source": [
    "---\n",
    "\n",
    "### Exercise 5:\n",
    "Write a Python function that checks if a number is divisible by both 3 and 5.\n",
    "\n",
    "```python\n",
    "# Exercise 5\n",
    "```"
   ]
  },
  {
   "cell_type": "code",
   "execution_count": 5,
   "id": "2bee2028-a238-4ab7-84a9-f9d5c9090dbf",
   "metadata": {},
   "outputs": [],
   "source": [
    "def divisible_by_3_and_5(n):\n",
    "    return n % 3 == 0 and n % 5 == 0"
   ]
  },
  {
   "cell_type": "markdown",
   "id": "fb070966-b3c0-4d4b-ae19-86c39448c2c9",
   "metadata": {},
   "source": [
    "\n",
    "---\n",
    "\n",
    "### Exercise 6:\n",
    "Write a Python program that prints \"Hot\" if the temperature is above 30, \"Warm\" if it is between 15 and 30, and \"Cold\" if it is below 15.\n",
    "\n",
    "```python\n",
    "# Exercise 6\n",
    "```"
   ]
  },
  {
   "cell_type": "code",
   "execution_count": null,
   "id": "4f529b53-374b-4cd7-a680-34956b1c632c",
   "metadata": {},
   "outputs": [],
   "source": [
    "temp = float(input(\"Enter the temperature: \"))\n",
    "if temp > 30:\n",
    "    print(\"Hot\")\n",
    "elif 15 <= temp <= 30:\n",
    "    print(\"Warm\")\n",
    "else:\n",
    "    print(\"Cold\")\n"
   ]
  },
  {
   "cell_type": "code",
   "execution_count": null,
   "id": "76c9cff6-0ab2-4ed1-8640-1c6a6172938e",
   "metadata": {},
   "outputs": [],
   "source": [
    "---\n",
    "\n",
    "### Exercise 7:\n",
    "Write a Python program that checks if a string contains the letter 'a'.\n",
    "\n",
    "```python\n",
    "# Exercise 7\n",
    "```"
   ]
  },
  {
   "cell_type": "code",
   "execution_count": null,
   "id": "e789cfb5-c27d-4230-aac6-5818babf5ea8",
   "metadata": {},
   "outputs": [],
   "source": [
    "text = input(\"Enter a string: \")\n",
    "if 'a' in text.lower():\n",
    "    print(\"Contains 'a'\")\n",
    "else:\n",
    "    print(\"Does not contain 'a'\")\n"
   ]
  },
  {
   "cell_type": "code",
   "execution_count": null,
   "id": "f5a4c8d5-da5f-4fa9-bd4a-84f5d2deb16d",
   "metadata": {},
   "outputs": [],
   "source": [
    "\n",
    "---\n",
    "\n",
    "### Exercise 8:\n",
    "Write a Python function that checks if two numbers are equal, or which one is larger.\n",
    "\n",
    "```python\n",
    "# Exercise 8\n",
    "```"
   ]
  },
  {
   "cell_type": "code",
   "execution_count": null,
   "id": "34ebf88f-2ca4-4eb0-b274-9c4f07493537",
   "metadata": {},
   "outputs": [],
   "source": [
    "def compare_numbers(a, b):\n",
    "    if a == b:\n",
    "        return \"Equal\"\n",
    "    elif a > b:\n",
    "        return \"First is larger\"\n",
    "    else:\n",
    "        return \"Second is larger\"\n"
   ]
  },
  {
   "cell_type": "code",
   "execution_count": null,
   "id": "43a24158-570c-47c3-91fb-7e8dcc92cfe5",
   "metadata": {},
   "outputs": [],
   "source": [
    "---\n",
    "\n",
    "### Exercise 9:\n",
    "Write a Python program that checks if a list is empty.\n",
    "\n",
    "```python\n",
    "# Exercise 9\n",
    "```"
   ]
  },
  {
   "cell_type": "markdown",
   "id": "561cdecb-99ab-4fad-ad76-c5e3a2877346",
   "metadata": {},
   "source": [
    "lst = []\n",
    "if not lst:\n",
    "    print(\"List is empty\")\n",
    "else:\n",
    "    print(\"List is not empty\")\n"
   ]
  },
  {
   "cell_type": "markdown",
   "id": "4e724ce8-47fb-406b-9682-b657585388ac",
   "metadata": {},
   "source": [
    "--\n",
    "\n",
    "### Exercise 10:\n",
    "Write a Python function that takes two strings and checks if they are anagrams.\n",
    "\n",
    "```python\n",
    "# Exercise 10"
   ]
  },
  {
   "cell_type": "code",
   "execution_count": null,
   "id": "e3597a22-52fc-4bc9-92ea-9099b266c9ac",
   "metadata": {},
   "outputs": [],
   "source": [
    "def are_anagrams(s1, s2):\n",
    "    return sorted(s1.lower()) == sorted(s2.lower())"
   ]
  },
  {
   "cell_type": "markdown",
   "id": "be1dbfb4-378a-40ba-8771-3507f9e28aa7",
   "metadata": {},
   "source": [
    "---\n",
    "\n",
    "### Exercise 11:\n",
    "Write a Python program that checks if a number is prime.\n",
    "\n",
    "```python\n",
    "# Exercise 11\n",
    "```"
   ]
  },
  {
   "cell_type": "code",
   "execution_count": null,
   "id": "4b3505d9-157f-4ff2-8c54-0c31ff147a19",
   "metadata": {},
   "outputs": [],
   "source": [
    "num = int(input(\"Enter a number: \"))\n",
    "\n",
    "if num > 1:\n",
    "    for i in range(2, int(num**0.5) + 1):\n",
    "        if num % i == 0:\n",
    "            print(\"Not prime\")\n",
    "            break\n",
    "    else:\n",
    "        print(\"Prime\")\n",
    "else:\n",
    "    print(\"Not prime\")\n"
   ]
  },
  {
   "cell_type": "markdown",
   "id": "9192ddd7-838f-4fcf-83df-f4aa40292a96",
   "metadata": {},
   "source": [
    "--\n",
    "### Exercise 12:\n",
    "Write a Python program that checks if a list of numbers is sorted in ascending order.\n",
    "\n",
    "```python\n",
    "# Exercise 12\n",
    "```"
   ]
  },
  {
   "cell_type": "code",
   "execution_count": null,
   "id": "e9232fa4-7122-44ff-814d-234471a0b96d",
   "metadata": {},
   "outputs": [],
   "source": [
    "def is_sorted(lst):\n",
    "    return lst == sorted(lst)"
   ]
  },
  {
   "cell_type": "markdown",
   "id": "dac3fea8-36fc-45b0-af40-1bbc6fabb02a",
   "metadata": {},
   "source": [
    "---\n",
    "\n",
    "### Exercise 13:\n",
    "Write a Python function that takes a character and checks if it is a digit.\n",
    "\n",
    "```python\n",
    "# Exercise 13\n",
    "```"
   ]
  },
  {
   "cell_type": "code",
   "execution_count": null,
   "id": "36e04a65-9c80-4197-b2e1-a885316f8aac",
   "metadata": {},
   "outputs": [],
   "source": [
    "def is_digit(c):\n",
    "    return c.isdigit()"
   ]
  },
  {
   "cell_type": "markdown",
   "id": "c55343de-f9c4-428f-ac11-4e89ec9a19a3",
   "metadata": {},
   "source": [
    "---\n",
    "\n",
    "### Exercise 14:\n",
    "Write a Python function that checks if a string contains only uppercase letters.\n",
    "\n",
    "```python\n",
    "# Exercise 14\n",
    "```"
   ]
  },
  {
   "cell_type": "code",
   "execution_count": null,
   "id": "db4324a5-cbd3-478a-980a-911419f22425",
   "metadata": {},
   "outputs": [],
   "source": [
    "def is_all_upper(s):\n",
    "    return s.isupper()"
   ]
  },
  {
   "cell_type": "markdown",
   "id": "bed2fc43-ec91-4a77-8cea-829c36fa7488",
   "metadata": {},
   "source": [
    "---\n",
    "\n",
    "### Exercise 15:\n",
    "Write a Python program that checks if a number is a multiple of 10.\n",
    "\n",
    "```python\n",
    "# Exercise 15\n",
    "```"
   ]
  },
  {
   "cell_type": "code",
   "execution_count": null,
   "id": "aadb5b70-303b-4342-969d-8982c7eb75eb",
   "metadata": {},
   "outputs": [],
   "source": [
    "num = int(input(\"Enter a number: \"))\n",
    "if num % 10 == 0:\n",
    "    print(\"Multiple of 10\")\n",
    "else:\n",
    "    print(\"Not a multiple of 10\")\n"
   ]
  },
  {
   "cell_type": "markdown",
   "id": "368a1ce2-9f93-40df-b1f7-51e74b21611e",
   "metadata": {},
   "source": [
    "Exercise 16:\n",
    "\n",
    "Write a Python function that checks if a list contains any duplicates."
   ]
  },
  {
   "cell_type": "code",
   "execution_count": null,
   "id": "955e886a-a650-4403-b9fd-ba48532e4975",
   "metadata": {},
   "outputs": [],
   "source": [
    "def has_duplicates(lst):\n",
    "    return len(lst) != len(set(lst))\n",
    "\n"
   ]
  },
  {
   "cell_type": "markdown",
   "id": "c9de2c7a-9fe3-4c1b-8337-1f3f1afaa519",
   "metadata": {},
   "source": [
    "\n",
    "---\n",
    "\n",
    "### Exercise 17:\n",
    "Write a Python program that prints \"Teenager\" if the age is between 13 and 19, otherwise it prints \"Not a teenager.\"\n",
    "\n",
    "```python\n",
    "# Exercise 17\n",
    "```"
   ]
  },
  {
   "cell_type": "code",
   "execution_count": null,
   "id": "8801c5f6-6845-469d-af46-ec1ce1274afe",
   "metadata": {},
   "outputs": [],
   "source": [
    "age = int(input(\"Enter age: \"))\n",
    "if 13 <= age <= 19:\n",
    "    print(\"Teenager\")\n",
    "else:\n",
    "    print(\"Not a teenager\")\n"
   ]
  },
  {
   "cell_type": "markdown",
   "id": "c9411bb0-5856-454d-b194-e9ef5144a779",
   "metadata": {},
   "source": [
    "---\n",
    "\n",
    "### Exercise 18:\n",
    "Write a Python function that checks if a list contains an element greater than 100.\n",
    "\n",
    "```python\n",
    "# Exercise 18\n",
    "```"
   ]
  },
  {
   "cell_type": "code",
   "execution_count": null,
   "id": "453b231a-50e3-45b5-8502-3e4727aa0984",
   "metadata": {},
   "outputs": [],
   "source": [
    "def has_greater_than_100(lst):\n",
    "    return any(x > 100 for x in lst)"
   ]
  },
  {
   "cell_type": "markdown",
   "id": "1c63fed5-efb3-4a77-9f19-a912656492ab",
   "metadata": {},
   "source": [
    "---\n",
    "\n",
    "### Exercise 19:\n",
    "Write a Python program that checks if a number is even or odd.\n",
    "\n",
    "```python\n",
    "# Exercise 19\n",
    "```"
   ]
  },
  {
   "cell_type": "code",
   "execution_count": null,
   "id": "720f0fd9-351d-4bc3-a1f4-9b481f2a9fde",
   "metadata": {},
   "outputs": [],
   "source": [
    "num = int(input(\"Enter a number: \"))\n",
    "print(\"Even\" if num % 2 == 0 else \"Odd\")\n"
   ]
  },
  {
   "cell_type": "markdown",
   "id": "5efc51f1-567c-4358-b55b-f2bf4eb9e4a6",
   "metadata": {},
   "source": [
    "---\n",
    "\n",
    "### Exercise 20:\n",
    "Write a Python function that checks if a string ends with a punctuation mark.\n",
    "\n",
    "```python\n",
    "# Exercise 20\n",
    "```"
   ]
  },
  {
   "cell_type": "code",
   "execution_count": null,
   "id": "defbab16-5c93-4f11-b4fb-6a7ca012ca0f",
   "metadata": {},
   "outputs": [],
   "source": [
    "import string\n",
    "\n",
    "def ends_with_punctuation(s):\n",
    "    return s[-1] in string.punctuation if s else False"
   ]
  },
  {
   "cell_type": "markdown",
   "id": "9b66bb59-bccb-48cf-9cb7-822a312e3af1",
   "metadata": {},
   "source": [
    "---\n",
    "\n",
    "### Exercise 21:\n",
    "Write a Python program that prints \"Yes\" if the number is between 1 and 100, otherwise it prints \"No.\"\n",
    "\n",
    "```python\n",
    "# Exercise 21\n",
    "```"
   ]
  },
  {
   "cell_type": "code",
   "execution_count": null,
   "id": "d277a873-f2da-424c-a5cc-948fd302f33f",
   "metadata": {},
   "outputs": [],
   "source": [
    "num = int(input(\"Enter a number: \"))\n",
    "if 1 <= num <= 100:\n",
    "    print(\"Yes\")\n",
    "else:\n",
    "    print(\"No\")"
   ]
  },
  {
   "cell_type": "markdown",
   "id": "89abdcb4-4cb7-401e-bc46-e2ba911c4faf",
   "metadata": {},
   "source": [
    "---\n",
    "\n",
    "### Exercise 22:\n",
    "Write a Python program that checks if two strings have the same length.\n",
    "\n",
    "```python\n",
    "# Exercise 22\n",
    "```"
   ]
  },
  {
   "cell_type": "code",
   "execution_count": null,
   "id": "62c31cc5-187a-41f2-9675-77362cfe9a23",
   "metadata": {},
   "outputs": [],
   "source": [
    "def same_length(s1, s2):\n",
    "    return len(s1) == len(s2)\n",
    "\n",
    "# Example usage\n",
    "print(same_length(\"cat\", \"dog\"))   # True\n",
    "print(same_length(\"cat\", \"mouse\")) # False\n"
   ]
  },
  {
   "cell_type": "markdown",
   "id": "5804d8a0-e4c4-40a8-a784-d65957348c7e",
   "metadata": {},
   "source": [
    "\n",
    "---\n",
    "\n",
    "### Exercise 23:\n",
    "Write a Python function that checks if a number is greater than its reverse.\n",
    "\n",
    "```python\n",
    "# Exercise 23\n",
    "```"
   ]
  },
  {
   "cell_type": "code",
   "execution_count": null,
   "id": "7cbf791e-cdd8-4a77-94d7-009a52f00b29",
   "metadata": {},
   "outputs": [],
   "source": [
    "def is_greater_than_reverse(n):\n",
    "    reversed_num = int(str(n)[::-1])\n",
    "    return n > reversed_num"
   ]
  },
  {
   "cell_type": "markdown",
   "id": "df7c94ff-8de2-44bc-9a5e-34094080e23a",
   "metadata": {},
   "source": [
    "---\n",
    "\n",
    "### Exercise 24:\n",
    "Write a Python program that checks if a password contains both letters and numbers.\n",
    "\n",
    "```python\n",
    "# Exercise 24\n",
    "```\n"
   ]
  },
  {
   "cell_type": "code",
   "execution_count": null,
   "id": "145397d8-468f-40e7-9def-3512f2d3642e",
   "metadata": {},
   "outputs": [],
   "source": [
    "def has_letters_and_numbers(password):\n",
    "    has_letter = any(c.isalpha() for c in password)\n",
    "    has_digit = any(c.isdigit() for c in password)\n",
    "    return has_letter and has_digit"
   ]
  },
  {
   "cell_type": "markdown",
   "id": "4b704fb3-b9de-4bf1-8a7e-7b3f6d208cc8",
   "metadata": {},
   "source": [
    "---\n",
    "\n",
    "### Exercise 25:\n",
    "Write a Python program that checks if a number is between two given numbers.\n",
    "\n",
    "```python\n",
    "# Exercise 25\n",
    "```\n"
   ]
  },
  {
   "cell_type": "code",
   "execution_count": null,
   "id": "60ad9414-e52d-4b10-9f8f-0f9026d12871",
   "metadata": {},
   "outputs": [],
   "source": [
    "def is_between(num, low, high):\n",
    "    return low < num < high"
   ]
  },
  {
   "cell_type": "markdown",
   "id": "4bb344c4-1d8f-4362-986e-3b6372c687ea",
   "metadata": {},
   "source": [
    "---\n",
    "\n",
    "### Exercise 26:\n",
    "Write a Python function that checks if all characters in a string are unique.\n",
    "\n",
    "```python\n",
    "# Exercise 26\n",
    "```"
   ]
  },
  {
   "cell_type": "code",
   "execution_count": null,
   "id": "5ce30aa8-3b6d-4a92-b067-8bd12b53fbd3",
   "metadata": {},
   "outputs": [],
   "source": [
    "def all_unique(s):\n",
    "    return len(s) == len(set(s))"
   ]
  },
  {
   "cell_type": "markdown",
   "id": "50eed6b7-de54-43c1-b939-0b0eb2346380",
   "metadata": {},
   "source": [
    "\n",
    "### Exercise 27:\n",
    "Write a Python program that checks if a number is a perfect square.\n",
    "\n",
    "```python\n",
    "# Exercise 27\n",
    "```"
   ]
  },
  {
   "cell_type": "code",
   "execution_count": null,
   "id": "6e0a7164-972c-43ac-b028-1cb3603a40d0",
   "metadata": {},
   "outputs": [],
   "source": [
    "import math\n",
    "\n",
    "def is_perfect_square(n):\n",
    "    return n >= 0 and math.isqrt(n) ** 2 == n\n"
   ]
  },
  {
   "cell_type": "markdown",
   "id": "5164d096-f8f3-47f6-b862-c4b614e1bffd",
   "metadata": {},
   "source": [
    "### Exercise 28:\n",
    "Write a Python function that checks if a word is a palindrome.\n",
    "\n",
    "```python\n",
    "# Exercise 28\n",
    "```"
   ]
  },
  {
   "cell_type": "code",
   "execution_count": null,
   "id": "26fe2ccd-7567-4f9d-be7f-746d531da98d",
   "metadata": {},
   "outputs": [],
   "source": [
    "def is_palindrome(word):\n",
    "    return word == word[::-1]"
   ]
  },
  {
   "cell_type": "markdown",
   "id": "a82a28fd-2ba6-4441-896f-05fd4d221e92",
   "metadata": {},
   "source": [
    "\n",
    "### Exercise 29:\n",
    "Write a Python program that prints \"Fizz\" if a number is divisible by 3, \"Buzz\" if it is divisible by 5, and \"FizzBuzz\" if divisible by both.\n",
    "\n",
    "```python\n",
    "# Exercise 29\n",
    "```"
   ]
  },
  {
   "cell_type": "code",
   "execution_count": null,
   "id": "e618f1b0-0425-4379-b525-d7665b6484e6",
   "metadata": {},
   "outputs": [],
   "source": [
    "num = int(input(\"Enter a number: \"))\n",
    "if num % 3 == 0 and num % 5 == 0:\n",
    "    print(\"FizzBuzz\")\n",
    "elif num % 3 == 0:\n",
    "    print(\"Fizz\")\n",
    "elif num % 5 == 0:\n",
    "    print(\"Buzz\")\n",
    "else:\n",
    "    print(num)\n"
   ]
  },
  {
   "cell_type": "markdown",
   "id": "fea54122-4849-4d88-a804-3540b9cc750d",
   "metadata": {},
   "source": [
    "### Exercise 30:\n",
    "Write a Python program that checks if the sum of the digits of a number is even.\n",
    "\n",
    "```python\n",
    "# Exercise 30\n",
    "```"
   ]
  },
  {
   "cell_type": "code",
   "execution_count": null,
   "id": "42b6cc8b-7c9b-4f10-8052-92da5af6a005",
   "metadata": {},
   "outputs": [],
   "source": [
    "def sum_of_digits_even(n):\n",
    "    total = sum(int(d) for d in str(abs(n)))\n",
    "    return total % 2 == 0"
   ]
  },
  {
   "cell_type": "markdown",
   "id": "4bdca556-7891-4b44-98b0-335c95374e17",
   "metadata": {},
   "source": [
    "### Exercise 31:\n",
    "Write a Python program that checks if a string is a valid email address.\n",
    "\n",
    "```python\n",
    "# Exercise 31\n",
    "```"
   ]
  },
  {
   "cell_type": "code",
   "execution_count": null,
   "id": "df52fc25-af05-42b9-acf5-6dbdd8c1a58a",
   "metadata": {},
   "outputs": [],
   "source": [
    "import re\n",
    "\n",
    "def is_valid_email(email):\n",
    "    pattern = r'^[\\w\\.-]+@[\\w\\.-]+\\.\\w+$'\n",
    "    return re.match(pattern, email) is not None\n"
   ]
  },
  {
   "cell_type": "markdown",
   "id": "ccaf96b2-0893-4de4-baa7-9d9e339b41ac",
   "metadata": {},
   "source": [
    "\n",
    "### Exercise 32:\n",
    "Write a Python function that checks if a number is within 10 of 100 or 200.\n",
    "\n",
    "```python\n",
    "# Exercise 32\n",
    "```"
   ]
  },
  {
   "cell_type": "code",
   "execution_count": null,
   "id": "e9e6896f-fcd8-4730-af02-d862ade40b0b",
   "metadata": {},
   "outputs": [],
   "source": [
    "def near_100_or_200(n):\n",
    "    return abs(100 - n) <= 10 or abs(200 - n) <= 10"
   ]
  },
  {
   "cell_type": "markdown",
   "id": "f5abc3da-2fca-4749-9638-d4752318a59f",
   "metadata": {},
   "source": [
    "\n",
    "### Exercise 33:\n",
    "Write a Python program that checks if a given string is a valid URL.\n",
    "\n",
    "```python\n",
    "# Exercise 33\n",
    "```"
   ]
  },
  {
   "cell_type": "code",
   "execution_count": null,
   "id": "cc3a5a59-5480-47c5-99a8-c4e66acee16a",
   "metadata": {},
   "outputs": [],
   "source": [
    "import re\n",
    "\n",
    "def is_valid_url(url):\n",
    "    pattern = r'^(https?://)?(www\\.)?[\\w\\-]+\\.\\w+(/[\\w\\-./?%&=]*)?$'\n",
    "    return re.match(pattern, url) is not None"
   ]
  },
  {
   "cell_type": "markdown",
   "id": "0cec85d6-7f6b-4863-ad3e-5581bc9512c0",
   "metadata": {},
   "source": [
    "### Exercise 34:\n",
    "Write a Python program that checks if a list contains all even numbers."
   ]
  },
  {
   "cell_type": "code",
   "execution_count": null,
   "id": "05660c1d-0426-4138-8355-7eb4abb362c7",
   "metadata": {},
   "outputs": [],
   "source": [
    "def all_even(lst):\n",
    "    return all(num % 2 == 0 for num in lst)"
   ]
  },
  {
   "cell_type": "markdown",
   "id": "8eff460d-ed93-4374-8211-2c58913fea68",
   "metadata": {},
   "source": [
    "---\n",
    "\n",
    "### Exercise 35:\n",
    "Write a Python program that checks if a word is longer than a given length.\n",
    "\n",
    "```python\n",
    "# Exercise 35\n",
    "```"
   ]
  },
  {
   "cell_type": "code",
   "execution_count": null,
   "id": "037f8b50-a1a0-471b-9e60-5f12f9311b7a",
   "metadata": {},
   "outputs": [],
   "source": [
    "def is_longer_than(word, length):\n",
    "    return len(word) > length"
   ]
  },
  {
   "cell_type": "markdown",
   "id": "c08c54a2-7da3-4f00-bb05-f5dd668c9dfa",
   "metadata": {},
   "source": [
    "\n",
    "### Exercise 36:\n",
    "Write a Python program that checks if a list contains only positive numbers.\n",
    "\n",
    "```python\n",
    "# Exercise 36\n",
    "```"
   ]
  },
  {
   "cell_type": "code",
   "execution_count": null,
   "id": "89a9c7be-37b8-4e51-9545-2d4b575f8a00",
   "metadata": {},
   "outputs": [],
   "source": [
    "def all_positive(lst):\n",
    "    return all(x > 0 for x in lst)"
   ]
  },
  {
   "cell_type": "markdown",
   "id": "68a2a985-4c56-4ce5-bc36-39fab8ddbf01",
   "metadata": {},
   "source": [
    "### Exercise 37:\n",
    "Write a Python function that checks if a year is a century year (i.e., divisible by 100).\n",
    "\n",
    "```python\n",
    "# Exercise 37\n",
    "``"
   ]
  },
  {
   "cell_type": "code",
   "execution_count": null,
   "id": "0cd55c67-9d1f-45b3-8936-9c6dff21b07b",
   "metadata": {},
   "outputs": [],
   "source": [
    "def is_century_year(year):\n",
    "    return year % 100 == 0"
   ]
  },
  {
   "cell_type": "markdown",
   "id": "c0ba5e92-225a-40af-a5ca-02bdb71121e9",
   "metadata": {},
   "source": [
    "\n",
    "### Exercise 38:\n",
    "Write a Python program that checks if the sum of a list of numbers is greater than 100.\n",
    "\n",
    "```python\n",
    "# Exercise 38\n",
    "```"
   ]
  },
  {
   "cell_type": "code",
   "execution_count": null,
   "id": "526a4a9c-8dc9-4cf5-b29b-96d78a7abd6f",
   "metadata": {},
   "outputs": [],
   "source": [
    "def sum_over_100(list):\n",
    "    return sum(list) > 100\n"
   ]
  },
  {
   "cell_type": "markdown",
   "id": "cd1251f5-f49c-46eb-bb9b-c380c4436e54",
   "metadata": {},
   "source": [
    "\n",
    "### Exercise 39:\n",
    "Write a Python function that checks if a given word is a substring of another string.\n",
    "\n",
    "```python\n",
    "# Exercise 39\n",
    "```"
   ]
  },
  {
   "cell_type": "code",
   "execution_count": null,
   "id": "1fca45aa-a624-4dcd-8255-d1bff9e3323e",
   "metadata": {},
   "outputs": [],
   "source": [
    "def is_substring(word, full_string):\n",
    "    return word in full_string"
   ]
  },
  {
   "cell_type": "markdown",
   "id": "8ac48455-e23d-47cf-a73d-5ca8647d4de5",
   "metadata": {},
   "source": [
    "\n",
    "### Exercise 40:\n",
    "Write a Python program that checks if a number is a power of 2.\n",
    "\n",
    "```python\n",
    "# Exercise 40\n",
    "```"
   ]
  },
  {
   "cell_type": "code",
   "execution_count": null,
   "id": "97d23282-f0ae-4db1-b21d-0f8adf368fd2",
   "metadata": {},
   "outputs": [],
   "source": [
    "def is_power_of_2(n):\n",
    "    return n > 0 and (n & (n - 1)) == 0"
   ]
  },
  {
   "cell_type": "markdown",
   "id": "d9a8e637-d254-420c-9a44-470df0b84683",
   "metadata": {},
   "source": [
    "\n",
    "### Exercise 41:\n",
    "Write a Python function that checks if a string contains no spaces.\n",
    "\n",
    "```python\n",
    "# Exercise 41\n",
    "```"
   ]
  },
  {
   "cell_type": "code",
   "execution_count": null,
   "id": "e91aa72c-4f2d-4acd-932e-0f7d85bcc5ec",
   "metadata": {},
   "outputs": [],
   "source": [
    "def no_spaces(s):\n",
    "    return ' ' not in s"
   ]
  },
  {
   "cell_type": "markdown",
   "id": "360a8583-94fb-4455-8c12-324afaf379cd",
   "metadata": {},
   "source": [
    "\n",
    "### Exercise 42:\n",
    "Write a Python program that prints \"Yes\" if a number is divisible by both 2 and 3, otherwise it prints \"No.\"\n",
    "\n",
    "```python\n",
    "# Exercise 42\n",
    "```"
   ]
  },
  {
   "cell_type": "code",
   "execution_count": null,
   "id": "8d36164d-3958-4943-867a-350ba9059e03",
   "metadata": {},
   "outputs": [],
   "source": [
    "num = int(input(\"Enter a number: \"))\n",
    "if num % 2 == 0 and num % 3 == 0:\n",
    "    print(\"Yes\")\n",
    "else:\n",
    "    print(\"No\")\n"
   ]
  },
  {
   "cell_type": "markdown",
   "id": "1c0b551a-fc6e-4f41-b2d0-f710abc68036",
   "metadata": {},
   "source": [
    "\n",
    "### Exercise 43:\n",
    "Write a Python program that checks if a number is a palindrome.\n",
    "\n",
    "```python\n",
    "# Exercise 43\n",
    "```"
   ]
  },
  {
   "cell_type": "code",
   "execution_count": null,
   "id": "597639d2-161b-41bd-9385-a7fdbdc12459",
   "metadata": {},
   "outputs": [],
   "source": [
    "def is_number_palindrome(n):\n",
    "    return str(n) == str(n)[::-1]"
   ]
  },
  {
   "cell_type": "markdown",
   "id": "ce54e418-91a0-4c46-8e9a-c99831b1ac42",
   "metadata": {},
   "source": [
    "\n",
    "### Exercise 44:\n",
    "Write a Python function that checks if a string is made of only lowercase letters.\n",
    "\n",
    "```python\n",
    "# Exercise 44\n",
    "```"
   ]
  },
  {
   "cell_type": "code",
   "execution_count": null,
   "id": "0a32bd78-bef4-4454-aa60-beb84390e698",
   "metadata": {},
   "outputs": [],
   "source": [
    "def is_all_lowercase(s):\n",
    "    return s.islower()"
   ]
  },
  {
   "cell_type": "markdown",
   "id": "e5b29c68-913d-4213-92e4-ad07d03f19f1",
   "metadata": {},
   "source": [
    "### Exercise 45:\n",
    "Write a Python program that checks if a string starts with a specific prefix.\n",
    "\n",
    "```python\n",
    "# Exercise 45\n",
    "```"
   ]
  },
  {
   "cell_type": "code",
   "execution_count": null,
   "id": "4f2eb5f4-f69f-4493-8d28-b9a4c9cffa75",
   "metadata": {},
   "outputs": [],
   "source": [
    "def starts_with_prefix(s, prefix):\n",
    "    return s.startswith(prefix)"
   ]
  },
  {
   "cell_type": "markdown",
   "id": "50fd37ff-2806-43a4-9859-59f2b1323426",
   "metadata": {},
   "source": [
    "### Exercise 46:\n",
    "Write a Python function that checks if a number is divisible by any number in a given list.\n",
    "\n",
    "```python\n",
    "# Exercise 46\n",
    "```"
   ]
  },
  {
   "cell_type": "code",
   "execution_count": null,
   "id": "8f314032-65f2-4732-99d8-f850b3873fdd",
   "metadata": {},
   "outputs": [],
   "source": [
    "def divisible_by_any(n, divisors):\n",
    "    return any(n % d == 0 for d in divisors if d != 0)"
   ]
  },
  {
   "cell_type": "markdown",
   "id": "08372427-c838-422f-b7df-4b8025fa6098",
   "metadata": {},
   "source": [
    "\n",
    "### Exercise 47:\n",
    "Write a Python program that prints \"Yes\" if a string has more than one occurrence of the same letter.\n",
    "\n",
    "```python\n",
    "# Exercise 47\n",
    "```"
   ]
  },
  {
   "cell_type": "code",
   "execution_count": null,
   "id": "a2565b9b-dda4-431e-9696-803c96d76a9e",
   "metadata": {},
   "outputs": [],
   "source": [
    "\n",
    "def has_duplicate_letters(s):\n",
    "    return len(set(s)) < len(s)\n",
    "print(\"Yes\" if has_duplicate_letters(\"hello\") else \"No\")"
   ]
  },
  {
   "cell_type": "markdown",
   "id": "f5441b28-0bcf-46d7-b4f4-728eb7675b7b",
   "metadata": {},
   "source": [
    "\n",
    "### Exercise 48:\n",
    "Write a Python function that checks if a number is prime by dividing it by numbers up to its square root.\n",
    "\n",
    "```python\n",
    "# Exercise 48\n",
    "```"
   ]
  },
  {
   "cell_type": "code",
   "execution_count": null,
   "id": "9554a3c9-3d00-478d-8681-341c349ee4db",
   "metadata": {},
   "outputs": [],
   "source": [
    "import math\n",
    "\n",
    "def is_prime_optimized(n):\n",
    "    if n <= 1:\n",
    "        return False\n",
    "    for i in range(2, int(math.sqrt(n)) + 1):\n",
    "        if n % i == 0:\n",
    "            return False\n",
    "    return True"
   ]
  },
  {
   "cell_type": "markdown",
   "id": "9191d54f-a90b-4066-8e84-6c4d9ebe0ca5",
   "metadata": {},
   "source": [
    "### Exercise 49:\n",
    "Write a Python program that checks if a number is within 1 of a multiple of 10.\n",
    "\n",
    "```python\n",
    "# Exercise 49\n",
    "```"
   ]
  },
  {
   "cell_type": "code",
   "execution_count": null,
   "id": "d89e4fe0-4772-430f-87e8-f93a22108ded",
   "metadata": {},
   "outputs": [],
   "source": [
    "def near_multiple_of_10(n):\n",
    "    return n % 10 in [1, 9]"
   ]
  },
  {
   "cell_type": "markdown",
   "id": "1f65194d-3f73-443b-80fb-be0a67195a93",
   "metadata": {},
   "source": [
    "### Exercise 50:\n",
    "Write a Python program that prints \"In range\" if a number is between 10 and 20 (inclusive), otherwise it prints \"Out of range.\"\n",
    "\n",
    "```python\n",
    "# Exercise 50\n",
    "```"
   ]
  },
  {
   "cell_type": "markdown",
   "id": "bea983a3",
   "metadata": {
    "id": "bea983a3"
   },
   "source": [
    "\n",
    "num = int(input(\"Enter a number: \"))\n",
    "if 10 <= num <= 20:\n",
    "    print(\"In range\")\n",
    "else:\n",
    "    print(\"Out of range\")\n"
   ]
  }
 ],
 "metadata": {
  "colab": {
   "provenance": []
  },
  "kernelspec": {
   "display_name": "Python 3 (ipykernel)",
   "language": "python",
   "name": "python3"
  },
  "language_info": {
   "codemirror_mode": {
    "name": "ipython",
    "version": 3
   },
   "file_extension": ".py",
   "mimetype": "text/x-python",
   "name": "python",
   "nbconvert_exporter": "python",
   "pygments_lexer": "ipython3",
   "version": "3.12.5"
  }
 },
 "nbformat": 4,
 "nbformat_minor": 5
}
